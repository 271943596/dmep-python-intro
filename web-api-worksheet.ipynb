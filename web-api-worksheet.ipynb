{
 "cells": [
  {
   "cell_type": "markdown",
   "metadata": {},
   "source": [
    "# Web API Worksheet\n",
    "\n",
    "This worksheet is a Jupyter Notebook. Your task is to read the task descriptions below and then modify the contents of each cell in order to carry out the task. The expected output is indicated in the remarks preceding each cell.\n",
    "\n",
    "## Task 1: Making a web request\n",
    "\n",
    "Task 1: There is a web API (which I made specifically for this worksheet!)\n",
    "available at the following URL:\n",
    "\n",
    "    http://blooming-shelf-7827.herokuapp.com\n",
    "\n",
    "Modify the value of the variable \"url\" below so that it makes a request to\n",
    "the \"/ping\" path of this web API.\n",
    "\n",
    "Expected output:\n",
    "\n",
    "    {\"ping\": \"ok\"}"
   ]
  },
  {
   "cell_type": "code",
   "execution_count": null,
   "metadata": {},
   "outputs": [],
   "source": [
    "import requests\n",
    "url = \"\" # <-- modify this\n",
    "response = requests.get(url)\n",
    "response.json()"
   ]
  },
  {
   "cell_type": "markdown",
   "metadata": {},
   "source": [
    "## Task 2: Manipulating URLs, part one\n",
    "\n",
    "This particular API requires that you supply an API key. The API key must be supplied as a parameter on the query string. Modify the call to `requests.get()` below so that it has a query string with one parameter, `api_key`, whose value is `abc123`. If you get this right, then the key in the dictionary returned from the response will be `results`; otherwise, it will be `error`. (Uncomment the line that prints the data response to help clarify.)\n",
    "\n",
    "Expected output:\n",
    "\n",
    "    'results'"
   ]
  },
  {
   "cell_type": "code",
   "execution_count": null,
   "metadata": {},
   "outputs": [],
   "source": [
    "url = \"http://blooming-shelf-7827.herokuapp.com/kittens\"\n",
    "response = requests.get(url) # <- modify this\n",
    "data = response.json()\n",
    "# uncomment the following line if you want to see what the response looks like\n",
    "#print(data)\n",
    "list(data.keys())[0]"
   ]
  },
  {
   "cell_type": "markdown",
   "metadata": {},
   "source": [
    "## Task 3: Working with web API data\n",
    "\n",
    "A request to \"/kittens\" (with the appropriate API key) returns a list of kittens. Modify the expression following \"print\" below so that the *number of kittens* in the response is displayed. (Use the line of code to call `requests.get()` from the previous task that includes the `api_key` parameter.)\n",
    "\n",
    "Expected output:\n",
    "\n",
    "    3\n"
   ]
  },
  {
   "cell_type": "code",
   "execution_count": null,
   "metadata": {},
   "outputs": [],
   "source": [
    "url = \"http://blooming-shelf-7827.herokuapp.com/kittens\"\n",
    "response = requests.get(url) # <- modify this\n",
    "data = response.json()\n",
    "data # <-- modify this!"
   ]
  },
  {
   "cell_type": "markdown",
   "metadata": {},
   "source": [
    "## Task 4: Working with embedded data structures\n",
    "\n",
    "Use the variable \"data\" from the previous task. Modify the two\n",
    "expressions indicated below so that the *name* of each of the kittens is\n",
    "displayed. (Take a good look at the data structure returned from the \n",
    "response. What kind of data structure is it? What other kinds of data\n",
    "structures does it contain?)\n",
    "\n",
    "Expected output:\n",
    "\n",
    "    McFluff the Crime Kitten\n",
    "    Scratch\n",
    "    Her Majesty Queen Esmerelda Poopbutt\n"
   ]
  },
  {
   "cell_type": "code",
   "execution_count": null,
   "metadata": {
    "collapsed": true
   },
   "outputs": [],
   "source": [
    "kitten_list = [] # <-- modify this! Hint: the value for a key in \"data\"\n",
    "for kitten in kitten_list:\n",
    "    print(\"\") # <-- modify this too! Hint: \"kitten\" is a dictionary"
   ]
  },
  {
   "cell_type": "markdown",
   "metadata": {},
   "source": [
    "## Task 5: Manipulating URLs, part two\n",
    "\n",
    "This API also allows you to specify a sort order for the kittens\n",
    "returned in the data. To take advantage of this functionality, include a key\n",
    "in the query string, `sort`, whose value is the data field that you want to\n",
    "sort by (e.g., `name`, `weeks_old`, `weight_kg`, etc.). Modify the dictionary\n",
    "inside the call to `requests.get()` below so that the for loop prints the\n",
    "names of the kittens in (ascending) order by weight. (Hint: don't forget\n",
    "to include your API key!)\n",
    "\n",
    "Expected output:\n",
    "    \n",
    "    McFluff the Crime Kitten\n",
    "    Her Majesty Queen Esmerelda Poopbutt\n",
    "    Scratch\n"
   ]
  },
  {
   "cell_type": "code",
   "execution_count": null,
   "metadata": {},
   "outputs": [],
   "source": [
    "url = \"http://blooming-shelf-7827.herokuapp.com/kittens\"\n",
    "response = requests.get(url) # <- modify this!\n",
    "data = response.json()\n",
    "for kitten in data['results']:\n",
    "    print(kitten['name'])"
   ]
  },
  {
   "cell_type": "markdown",
   "metadata": {},
   "source": [
    "## Task 6: Working with embedded data structures, part two\n",
    "\n",
    "The value for each kitten's \"favorite_foods\" key is a list of strings. Change the indicated\n",
    "expression below so that the code prints out the first favorite food for each kitten. Use the query string parameters from the previous task.\n",
    "\n",
    "Expected output:\n",
    "\n",
    "    salmon\n",
    "    duck\n",
    "    chicken"
   ]
  },
  {
   "cell_type": "code",
   "execution_count": null,
   "metadata": {},
   "outputs": [],
   "source": [
    "url = \"http://blooming-shelf-7827.herokuapp.com/kittens\"\n",
    "response = requests.get(url) # <- modify this!\n",
    "data = response.json()\n",
    "for kitten in data['results']:\n",
    "    print(\"\") # <-- modify this expression!"
   ]
  },
  {
   "cell_type": "markdown",
   "metadata": {},
   "source": [
    "## Task 7: Working with embedded data structures, part three (advanced!)\n",
    "\n",
    "Write a list comprehension in the indicated space that returns a\n",
    "list of the values for the \"weight_kg\" field in each kitten record.\n",
    "The resulting expression will pring out the sum of their weights. (Use the\n",
    "query string parameters from the previous task.)\n",
    "\n",
    "Expected output:\n",
    "\n",
    "    7.3"
   ]
  },
  {
   "cell_type": "code",
   "execution_count": null,
   "metadata": {},
   "outputs": [],
   "source": [
    "url = \"http://blooming-shelf-7827.herokuapp.com/kittens\"\n",
    "response = requests.get(url) # <- modify this!\n",
    "data = response.json()\n",
    "sum([]) # <-- change [] to a list comprehension"
   ]
  }
 ],
 "metadata": {
  "kernelspec": {
   "display_name": "Python 3",
   "language": "python",
   "name": "python3"
  },
  "language_info": {
   "codemirror_mode": {
    "name": "ipython",
    "version": 3
   },
   "file_extension": ".py",
   "mimetype": "text/x-python",
   "name": "python",
   "nbconvert_exporter": "python",
   "pygments_lexer": "ipython3",
   "version": "3.6.1"
  }
 },
 "nbformat": 4,
 "nbformat_minor": 2
}
