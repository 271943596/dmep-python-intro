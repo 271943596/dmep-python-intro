{
 "cells": [
  {
   "cell_type": "markdown",
   "metadata": {},
   "source": [
    "# Notes July 25th 2017\n",
    "\n",
    "## Web scraping example"
   ]
  },
  {
   "cell_type": "markdown",
   "metadata": {},
   "source": [
    "desired result:\n",
    "\n",
    "    [\n",
    "        {\n",
    "            \"name\": \"Christopher Balding\",\n",
    "            \"title\": \"Associate Professor\",\n",
    "            \"credential\": \"PhD, Political Economics, University of California at Irvine\",\n",
    "            \"fields\": [\"Political Economics\"]\n",
    "        },\n",
    "        {\n",
    "            \"name\": \"Erik Benrud\",\n",
    "            \"title\": \"Professor\",\n",
    "            \"credential\": \"PhD in finance, University of Virginia\",\n",
    "            \"fields\": [\"Finance and Econometrics\"]\n",
    "        },\n",
    "        ...\n",
    "    ]"
   ]
  },
  {
   "cell_type": "code",
   "execution_count": 2,
   "metadata": {
    "collapsed": true
   },
   "outputs": [],
   "source": [
    "url = \"http://english.phbs.pku.edu.cn/index.php?m=content&c=index&a=lists&catid=627\""
   ]
  },
  {
   "cell_type": "code",
   "execution_count": 3,
   "metadata": {
    "collapsed": true
   },
   "outputs": [],
   "source": [
    "import requests\n",
    "from bs4 import BeautifulSoup"
   ]
  },
  {
   "cell_type": "code",
   "execution_count": 4,
   "metadata": {
    "collapsed": true
   },
   "outputs": [],
   "source": [
    "resp = requests.get(url)\n",
    "html_str = resp.text"
   ]
  },
  {
   "cell_type": "code",
   "execution_count": 6,
   "metadata": {
    "collapsed": true
   },
   "outputs": [],
   "source": [
    "soup = BeautifulSoup(html_str, \"html.parser\")"
   ]
  },
  {
   "cell_type": "code",
   "execution_count": 8,
   "metadata": {},
   "outputs": [
    {
     "name": "stdout",
     "output_type": "stream",
     "text": [
      "Christopher Balding\n",
      "Erik Benrud\n",
      "Hursit Selcuk Celil\n",
      "Wei Cen\n",
      "Kevin Chastagner\n",
      "Qian Chen\n",
      "Jaehyuk Choi\n",
      "Chia-Shang J. Chu\n",
      "Tianyu Dai\n",
      "Gang Fan\n",
      "Yan Feng\n",
      "Terrill L. Frantz\n",
      "Chang Yong Ha\n",
      "Wen Hai\n",
      "Fan He\n",
      "Haifeng Huang\n",
      "Hyun Joong Im\n",
      "Lan Ju\n",
      "Daniel Sungyeon Kim\n",
      "Frank (Fritz) H. Koger\n",
      "Fanmin Kong\n",
      "Sai Lan\n",
      "Yingjie Lan\n",
      "Daeyong Lee\n",
      "Insook Lee\n",
      "Nan Liu\n",
      "Lan Liu\n",
      "Yang Liu\n",
      "Guy Liu\n",
      "Jun Lu\n",
      "Seungjoon Oh\n",
      "David Ong\n",
      "Liangyi Ouyang\n",
      "Young Joon Park\n",
      "Jooyoung Park\n",
      "Ting Ren\n",
      "Jiao Shi\n",
      "Sungbin Sohn\n",
      "Lei Sun\n",
      "Domenico Tarzia\n",
      "Naqiong Tong\n",
      "Zhiyong Tu\n",
      "Chunyang Wang\n",
      "Qing Wang\n",
      "Wei Wei\n",
      "Wei Xu\n",
      "Yang Xu\n",
      "Juan Yang\n",
      "Weiming Ye\n",
      "C. James Yen\n",
      "Yeujun Yoon\n",
      "Yilin Zhang\n",
      "Jake Zhao\n",
      "Deming Zhou\n",
      "Yu Zhou\n",
      "Hong Zhu\n",
      "Xiaotian Zhu\n"
     ]
    }
   ],
   "source": [
    "for tag in soup.find_all(\"h3\"):\n",
    "    print(tag.string)"
   ]
  },
  {
   "cell_type": "markdown",
   "metadata": {},
   "source": [
    "what's the difference between `find()` and `find_all()`?"
   ]
  },
  {
   "cell_type": "code",
   "execution_count": 9,
   "metadata": {
    "collapsed": true
   },
   "outputs": [],
   "source": [
    "x = soup.find(\"h3\")"
   ]
  },
  {
   "cell_type": "code",
   "execution_count": 11,
   "metadata": {},
   "outputs": [
    {
     "data": {
      "text/plain": [
       "bs4.element.Tag"
      ]
     },
     "execution_count": 11,
     "metadata": {},
     "output_type": "execute_result"
    }
   ],
   "source": [
    "type(x)"
   ]
  },
  {
   "cell_type": "code",
   "execution_count": 12,
   "metadata": {
    "collapsed": true
   },
   "outputs": [],
   "source": [
    "x = soup.find_all(\"h3\")"
   ]
  },
  {
   "cell_type": "code",
   "execution_count": 14,
   "metadata": {},
   "outputs": [
    {
     "data": {
      "text/plain": [
       "bs4.element.ResultSet"
      ]
     },
     "execution_count": 14,
     "metadata": {},
     "output_type": "execute_result"
    }
   ],
   "source": [
    "type(x)"
   ]
  },
  {
   "cell_type": "code",
   "execution_count": 17,
   "metadata": {},
   "outputs": [
    {
     "data": {
      "text/plain": [
       "bs4.element.Tag"
      ]
     },
     "execution_count": 17,
     "metadata": {},
     "output_type": "execute_result"
    }
   ],
   "source": [
    "type(x[0])"
   ]
  },
  {
   "cell_type": "code",
   "execution_count": 19,
   "metadata": {},
   "outputs": [
    {
     "data": {
      "text/plain": [
       "<h3><a href=\"http://english.phbs.pku.edu.cn/content-627-1-1.html\">Christopher Balding</a></h3>"
      ]
     },
     "execution_count": 19,
     "metadata": {},
     "output_type": "execute_result"
    }
   ],
   "source": [
    "x[0]"
   ]
  },
  {
   "cell_type": "code",
   "execution_count": 23,
   "metadata": {},
   "outputs": [
    {
     "data": {
      "text/plain": [
       "<h3><a href=\"http://english.phbs.pku.edu.cn/content-627-45-1.html\">Erik Benrud</a></h3>"
      ]
     },
     "execution_count": 23,
     "metadata": {},
     "output_type": "execute_result"
    }
   ],
   "source": [
    "x[1]"
   ]
  },
  {
   "cell_type": "code",
   "execution_count": 26,
   "metadata": {},
   "outputs": [
    {
     "name": "stdout",
     "output_type": "stream",
     "text": [
      "Christopher Balding\n",
      "Erik Benrud\n",
      "Hursit Selcuk Celil\n",
      "Wei Cen\n",
      "Kevin Chastagner\n",
      "Qian Chen\n",
      "Jaehyuk Choi\n",
      "Chia-Shang J. Chu\n",
      "Tianyu Dai\n",
      "Gang Fan\n",
      "Yan Feng\n",
      "Terrill L. Frantz\n",
      "Chang Yong Ha\n",
      "Wen Hai\n",
      "Fan He\n",
      "Haifeng Huang\n",
      "Hyun Joong Im\n",
      "Lan Ju\n",
      "Daniel Sungyeon Kim\n",
      "Frank (Fritz) H. Koger\n",
      "Fanmin Kong\n",
      "Sai Lan\n",
      "Yingjie Lan\n",
      "Daeyong Lee\n",
      "Insook Lee\n",
      "Nan Liu\n",
      "Lan Liu\n",
      "Yang Liu\n",
      "Guy Liu\n",
      "Jun Lu\n",
      "Seungjoon Oh\n",
      "David Ong\n",
      "Liangyi Ouyang\n",
      "Young Joon Park\n",
      "Jooyoung Park\n",
      "Ting Ren\n",
      "Jiao Shi\n",
      "Sungbin Sohn\n",
      "Lei Sun\n",
      "Domenico Tarzia\n",
      "Naqiong Tong\n",
      "Zhiyong Tu\n",
      "Chunyang Wang\n",
      "Qing Wang\n",
      "Wei Wei\n",
      "Wei Xu\n",
      "Yang Xu\n",
      "Juan Yang\n",
      "Weiming Ye\n",
      "C. James Yen\n",
      "Yeujun Yoon\n",
      "Yilin Zhang\n",
      "Jake Zhao\n",
      "Deming Zhou\n",
      "Yu Zhou\n",
      "Hong Zhu\n",
      "Xiaotian Zhu\n"
     ]
    }
   ],
   "source": [
    "for item in soup.find_all(\"h3\"):\n",
    "    print(item.string)"
   ]
  },
  {
   "cell_type": "code",
   "execution_count": 29,
   "metadata": {},
   "outputs": [],
   "source": [
    "names = [item.string for item in soup.find_all(\"h3\")]"
   ]
  },
  {
   "cell_type": "code",
   "execution_count": 31,
   "metadata": {},
   "outputs": [
    {
     "data": {
      "text/plain": [
       "'Yeujun Yoon'"
      ]
     },
     "execution_count": 31,
     "metadata": {},
     "output_type": "execute_result"
    }
   ],
   "source": [
    "names[50]"
   ]
  },
  {
   "cell_type": "code",
   "execution_count": 33,
   "metadata": {},
   "outputs": [
    {
     "data": {
      "text/plain": [
       "57"
      ]
     },
     "execution_count": 33,
     "metadata": {},
     "output_type": "execute_result"
    }
   ],
   "source": [
    "len(soup.find_all(\"h3\"))"
   ]
  },
  {
   "cell_type": "code",
   "execution_count": 43,
   "metadata": {},
   "outputs": [
    {
     "data": {
      "text/plain": [
       "1"
      ]
     },
     "execution_count": 43,
     "metadata": {},
     "output_type": "execute_result"
    }
   ],
   "source": [
    "len(soup.find(\"h3\"))"
   ]
  },
  {
   "cell_type": "markdown",
   "metadata": {},
   "source": [
    "what is the \"length\" of a tag? it is confusing to me."
   ]
  },
  {
   "cell_type": "code",
   "execution_count": 36,
   "metadata": {
    "collapsed": true
   },
   "outputs": [],
   "source": [
    "x = soup.find(\"h3\")"
   ]
  },
  {
   "cell_type": "code",
   "execution_count": 38,
   "metadata": {},
   "outputs": [
    {
     "data": {
      "text/plain": [
       "bs4.element.Tag"
      ]
     },
     "execution_count": 38,
     "metadata": {},
     "output_type": "execute_result"
    }
   ],
   "source": [
    "type(x)"
   ]
  },
  {
   "cell_type": "code",
   "execution_count": 40,
   "metadata": {},
   "outputs": [
    {
     "data": {
      "text/plain": [
       "1"
      ]
     },
     "execution_count": 40,
     "metadata": {},
     "output_type": "execute_result"
    }
   ],
   "source": [
    "len(x)"
   ]
  },
  {
   "cell_type": "code",
   "execution_count": 45,
   "metadata": {},
   "outputs": [
    {
     "data": {
      "text/plain": [
       "31"
      ]
     },
     "execution_count": 45,
     "metadata": {},
     "output_type": "execute_result"
    }
   ],
   "source": [
    "len(soup.find(\"ul\"))"
   ]
  },
  {
   "cell_type": "markdown",
   "metadata": {},
   "source": [
    "my guess: how many children it has. maybe???"
   ]
  },
  {
   "cell_type": "code",
   "execution_count": 46,
   "metadata": {},
   "outputs": [
    {
     "data": {
      "text/plain": [
       "<ul class=\"nav\">\n",
       "<li><a href=\"http://english.phbs.pku.edu.cn\">Home</a></li>\n",
       "<li><span>|</span></li>\n",
       "<li>\n",
       "<a href=\"javascript:;\">About</a>\n",
       "<!--//二级栏目-->\n",
       "<div class=\"slave\">\n",
       "<ul>\n",
       "<li><a href=\"http://english.phbs.pku.edu.cn/list-596-1.html\">Overview</a></li>\n",
       "<li><a href=\"http://english.phbs.pku.edu.cn/list-595-1.html\">Message from the Dean</a></li>\n",
       "<li><a href=\"http://english.phbs.pku.edu.cn/list-597-1.html\">Fast Facts</a></li>\n",
       "<li><a href=\"http://english.phbs.pku.edu.cn/list-788-1.html\">History of PHBS</a></li>\n",
       "<li><a href=\"http://english.phbs.pku.edu.cn/list-722-1.html\">News &amp; Events</a></li>\n",
       "<li><a href=\"http://english.phbs.pku.edu.cn/list-598-1.html\">Visit us</a></li>\n",
       "<li><a href=\"http://english.phbs.pku.edu.cn/list-599-1.html\">Contact us</a></li>\n",
       "</ul>\n",
       "</div>\n",
       "</li>\n",
       "<li><span>|</span></li>\n",
       "<li>\n",
       "<a href=\"javascript:;\">Admissions</a>\n",
       "<!--//二级栏目-->\n",
       "<div class=\"slave\">\n",
       "<ul>\n",
       "<li><a href=\"http://english.phbs.pku.edu.cn/list-1636-1.html\">Why PHBS?</a></li>\n",
       "<li><a href=\"http://english.phbs.pku.edu.cn/list-1641-1.html\">Admission Requirement &amp; Process</a></li>\n",
       "<li><a href=\"http://english.phbs.pku.edu.cn/list-790-1.html\">Admission FAQ</a></li>\n",
       "<li><a href=\"http://english.phbs.pku.edu.cn/list-792-1.html\">Financing Your Education</a></li>\n",
       "<li><a href=\"http://english.phbs.pku.edu.cn/list-791-1.html\">Student Testimonials</a></li>\n",
       "<li><a href=\"https://thenanyan.com/\">Nanyan Observer</a></li>\n",
       "<li><a href=\"http://english.phbs.pku.edu.cn/list-1638-1.html\">Enquire Here</a></li>\n",
       "</ul>\n",
       "</div>\n",
       "</li>\n",
       "<li><span>|</span></li>\n",
       "<li>\n",
       "<a href=\"javascript:;\">Academics</a>\n",
       "<!--//二级栏目-->\n",
       "<div class=\"slave\">\n",
       "<ul>\n",
       "<li><a href=\"http://english.phbs.pku.edu.cn/list-1635-1.html\">Master</a></li>\n",
       "<li><a href=\"http://english.phbs.pku.edu.cn/list-1634-1.html\">MBA</a></li>\n",
       "<li><a href=\"http://english.phbs.pku.edu.cn/index.php?m=content&amp;c=index&amp;a=lists&amp;catid=793\">PHD</a></li>\n",
       "<li><a href=\"http://english.phbs.pku.edu.cn/index.php?m=content&amp;c=index&amp;a=lists&amp;catid=614\">EMBA</a></li>\n",
       "<li><a href=\"http://english.phbs.pku.edu.cn/index.php?m=content&amp;c=index&amp;a=lists&amp;catid=794\">EDP</a></li>\n",
       "<li><a href=\"http://english.phbs.pku.edu.cn/list-613-1.html\">Academic Calendar</a></li>\n",
       "<li><a href=\"http://english.phbs.pku.edu.cn/list-617-1.html\">Courses and Exams</a></li>\n",
       "<li><a href=\"http://english.phbs.pku.edu.cn/list-1115-1.html\">Course Catalogue</a></li>\n",
       "</ul>\n",
       "</div>\n",
       "</li>\n",
       "<li><span>|</span></li>\n",
       "<li>\n",
       "<a href=\"javascript:;\">Faculty &amp; Research</a>\n",
       "<!--//二级栏目-->\n",
       "<div class=\"slave\">\n",
       "<ul>\n",
       "<li><a href=\"http://english.phbs.pku.edu.cn/list-623-1.html\">Faculty Directory</a></li>\n",
       "<li><a href=\"http://english.phbs.pku.edu.cn/list-624-1.html\">Research Centers</a></li>\n",
       "<li><a href=\"http://english.phbs.pku.edu.cn/list-625-1.html\">Seminars</a></li>\n",
       "<li><a href=\"http://english.phbs.pku.edu.cn/list-1407-1.html\">Publications</a></li>\n",
       "<li><a href=\"http://english.phbs.pku.edu.cn/list-1408-1.html\">Working papers</a></li>\n",
       "<li><a href=\"http://english.phbs.pku.edu.cn/index.php?m=content&amp;c=index&amp;a=lists&amp;catid=1650\">Conference</a></li>\n",
       "<li><a href=\"http://english.phbs.pku.edu.cn/list-1434-1.html\">PHBS Newsletter</a></li>\n",
       "<li><a href=\"http://english.phbs.pku.edu.cn/index.php?m=content&amp;c=index&amp;a=lists&amp;catid=626\">Faculty Recruitment</a></li>\n",
       "<li><a href=\"http://english.phbs.pku.edu.cn/list-947-1.html\">Staff Recruitment</a></li>\n",
       "<li><a href=\"http://english.phbs.pku.edu.cn/list-795-1.html\">Faculty Resource</a></li>\n",
       "</ul>\n",
       "</div>\n",
       "</li>\n",
       "<li><span>|</span></li>\n",
       "<li>\n",
       "<a href=\"javascript:;\">Students</a>\n",
       "<!--//二级栏目-->\n",
       "<div class=\"slave\">\n",
       "<ul>\n",
       "<li><a href=\"http://english.phbs.pku.edu.cn/list-632-1.html\">Student Resources</a></li>\n",
       "<li><a href=\"http://english.phbs.pku.edu.cn/list-631-1.html\">Career Services</a></li>\n",
       "<li><a href=\"http://english.phbs.pku.edu.cn/list-630-1.html\">Campus Life</a></li>\n",
       "<li><a href=\"http://english.phbs.pku.edu.cn/index.php?m=content&amp;c=index&amp;a=lists&amp;catid=637\">Orientation</a></li>\n",
       "<li><a href=\"http://english.phbs.pku.edu.cn/index.php?m=content&amp;c=index&amp;a=lists&amp;catid=634\">Financial Lab</a></li>\n",
       "<li><a href=\"http://english.phbs.pku.edu.cn/index.php?m=content&amp;c=index&amp;a=lists&amp;catid=638\">Graduation</a></li>\n",
       "</ul>\n",
       "</div>\n",
       "</li>\n",
       "<li><span>|</span></li>\n",
       "<li>\n",
       "<a href=\"javascript:;\">Exchange</a>\n",
       "<!--//二级栏目-->\n",
       "<div class=\"slave\">\n",
       "<ul>\n",
       "<li><a href=\"http://english.phbs.pku.edu.cn/index.php?m=content&amp;c=index&amp;a=lists&amp;catid=1639\">International Exposure</a></li>\n",
       "<li><a href=\"http://english.phbs.pku.edu.cn/list-726-1.html\">Incoming</a></li>\n",
       "<li><a href=\"http://english.phbs.pku.edu.cn/list-727-1.html\">Outgoing</a></li>\n",
       "<li><a href=\"http://english.phbs.pku.edu.cn/list-1379-1.html\">Exchange Partners</a></li>\n",
       "</ul>\n",
       "</div>\n",
       "</li>\n",
       "<li><span>|</span></li>\n",
       "<li>\n",
       "<a href=\"javascript:;\">Alumni</a>\n",
       "<!--//二级栏目-->\n",
       "<div class=\"slave\">\n",
       "<ul>\n",
       "<li><a href=\"http://english.phbs.pku.edu.cn/list-653-1.html\">About</a></li>\n",
       "<li><a href=\"http://english.phbs.pku.edu.cn/list-654-1.html\">News &amp; Events</a></li>\n",
       "<li><a href=\"http://english.phbs.pku.edu.cn/list-656-1.html\">Give to PHBS</a></li>\n",
       "<li><a href=\"http://english.phbs.pku.edu.cn/list-658-1.html\">Contact us</a></li>\n",
       "</ul>\n",
       "</div>\n",
       "</li>\n",
       "</ul>"
      ]
     },
     "execution_count": 46,
     "metadata": {},
     "output_type": "execute_result"
    }
   ],
   "source": [
    "soup.find(\"ul\")"
   ]
  },
  {
   "cell_type": "markdown",
   "metadata": {},
   "source": [
    "okay, getting back to the task at hand.\n",
    "\n",
    "desired result:\n",
    "\n",
    "    [\n",
    "        {\n",
    "            \"name\": \"Christopher Balding\",\n",
    "            \"title\": \"Associate Professor\",\n",
    "            \"credential\": \"PhD, Political Economics, University of California at Irvine\",\n",
    "            \"fields\": [\"Political Economics\"]\n",
    "        },\n",
    "        {\n",
    "            \"name\": \"Erik Benrud\",\n",
    "            \"title\": \"Professor\",\n",
    "            \"credential\": \"PhD in finance, University of Virginia\",\n",
    "            \"fields\": [\"Finance and Econometrics\"]\n",
    "        },\n",
    "        ...\n",
    "    ]"
   ]
  },
  {
   "cell_type": "markdown",
   "metadata": {},
   "source": [
    "my hypothesis:\n",
    "\n",
    "* each professor is in a `<li>` tag with a `class` of `szll_box`, whatever that is.\n",
    "* so, I'll find each of those `<li>` tags, and then look in the descendents of THAT tag: `<h3>` for the name, and then all of the `<p>` tags for the title, credentials, fields, etc."
   ]
  },
  {
   "cell_type": "code",
   "execution_count": 49,
   "metadata": {},
   "outputs": [
    {
     "name": "stdout",
     "output_type": "stream",
     "text": [
      "Christopher Balding\n",
      "Associate Professor\n",
      "PhD, Political Economics, University of California at Irvine\n",
      "Fields:Political Economics\n",
      "Erik Benrud\n",
      "Professor\n",
      "PhD in finance, University of Virginia\n",
      "Fields:Finance and Econometrics\n",
      "Hursit Selcuk Celil\n",
      "Assistant Professor\n",
      "Ph. D. in Finance, Texas A&M; University\n",
      "Fields:Finance - Corporate Finance; Asset Valuation\n",
      "Wei Cen\n",
      "Assistant Professor\n",
      "PhD, Applied Economics and Management, CORNELL UNIVERSITY\n",
      "Fields:Corporate Finance, Corporate Governance\n",
      "Kevin Chastagner\n",
      "Assistant Professor\n",
      "PhD, Business Administration, Washington State University\n",
      "Fields:Corporate Strategy and International Business\n",
      "Qian Chen\n",
      "Assistant Professor\n",
      "PhD, Operations Management and Econometrics,the University of Sydney\n",
      "Fields:Bayesian inference, extreme event forecasting\n",
      "Jaehyuk Choi\n",
      "Assistant Professor\n",
      "Ph.D. in Applied Mathematics, Massachusetts Institute of Technology\n",
      "Fields:Quantitative ﬁnance, Mathematical modelling, Numerical methods, Data science\n",
      "Chia-Shang J. Chu\n",
      "Professor\n",
      "Ph.D.in Economics, University of California, San Diego\n",
      "Fields:Econometric theory, Time Series Analysis\n",
      "Tianyu Dai\n",
      "Associate Professor\n",
      "Ph.D., Management, Chinese Academy of Social Sciences\n",
      "Fields:Oriental Economics, Cartography Analysis of Economics, Management System Design, Business Model Design, Infeasibility Analysis, Service Chain Management, Management Experiment Science, Law Metrology , etc.\n",
      "Gang Fan\n",
      "Professor\n",
      "PhD, Graduate School of Chinese Academy of Social Science\n",
      "Fields:Macroeconomics and Chinese macroeconomic policy\n",
      "Yan Feng\n",
      "Assistant Professor\n",
      "PhD, Applied Economics, University of Pennsylvania\n",
      "Fields:Healthcare financing and policy; public health and health services researches; industrial development (especially pharmaceutical industry)\n",
      "Terrill L. Frantz\n",
      "Assistant Professor of Management\n",
      "PhD, Computer Science, Carnegie Mellon Univ. & EdD, Organization Change, Pepperdine Univ.\n",
      "Fields:Organizational Behavior, Mergers & Acquisitions, Post-Merger Integration, Organizational Networks\n",
      "Chang Yong Ha\n",
      "Assistant Professor\n",
      "Ph.D.  Finance/Economics, Columbia University\n",
      "Fields:Asset Pricing, Market Micro-structure\n",
      "Wen Hai\n",
      "Vice Chairman of Peking University Council\n",
      "PhD, University of California at Davis\n",
      "Read More ...\n",
      "Fan He\n",
      "Professor\n",
      "PhD in Economics\n",
      "Fields:Chinese macro-economy, international finance, and international political economy\n",
      "Haifeng Huang\n",
      "Assistant Dean\n",
      "PhD, Humboldt University in Berlin\n",
      "Fields:Economic Transition; Strategic management; Regional economics; Green Economy\n",
      "Hyun Joong Im\n",
      "Assistant Professor\n",
      "DPhil, Financial Economics, University of Oxford\n",
      "Fields:Corporate Finance, Stock Markets, Macroeconomic Implications of Corporate Finance, Regulation of Financial Markets\n",
      "Lan Ju\n",
      "Associate Professor\n",
      "PhD, Risk Management and Insurance, University of Wisconsin-Madison\n",
      "Fields:Corporate Risk Management, Insurance Company Operations, Insurance Economics, Corporate Finance, Financial Derivatives\n",
      "Daniel Sungyeon Kim\n",
      "Assistant Professor\n",
      "PhD, Finance, Indiana University\n",
      "Fields:Empirical and theoretical corporate finance\n",
      "Frank (Fritz) H. Koger\n",
      "Assistant Professor\n",
      "PhD, Finance, Tulane University\n",
      "Fields:Corporate Finance and Governance, Heterogeneous Beliefs and Agents, Investments\n",
      "Fanmin Kong\n",
      "Associate Professor\n",
      "Ph.D., Human Resources and Industrial Relations, University of Minnesota\n",
      "Fields:Human Resources and Industrial Relations, Organization Theory, Corporate Culture\n",
      "Sai Lan\n",
      "Assistant Professor\n",
      "PhD, Strategy & Entrepreneurship, University of Illinois at Urbana-Champaign\n",
      "Fields:Innovation and Entrepreneurship, International Business Management, Corporate Strategy\n",
      "Yingjie Lan\n",
      "Assistant Professor \n",
      "Ph.D in Operations Management, University of Maryland\n",
      "Fields:Revenue Management, Operations Management, Logistics and Supply Chain Management\n",
      "Daeyong Lee\n",
      "Assistant Professor\n",
      "Ph.D. in Economics, University of Washington\n",
      "Fields:Public Finance, Health Economics, Applied-Microeconomics\n",
      "Insook Lee\n",
      "Assistant Professor\n",
      "PhD in Economics, University of California, Berkeley\n",
      "Fields:Public Economics (Public Finance), Public Pension, Taxation, Public Debt\n",
      "Nan Liu\n",
      "Assistant Professor \n",
      "Ph.D., Accounting, Georgia State University\n",
      "Fields:Financial accounting, Earnings management, Firm\n",
      "Lan Liu\n",
      "Teaching Associate Professor\n",
      "PhD in Communication\n",
      "Fields:Leadership, Corporate Culture, Organizational Communication\n",
      "Yang Liu\n",
      "Assistant Professor\n",
      "Ph. D. The Chinese University of Hong Kong\n",
      "Fields:Sociology of Technology, Developmental Communication Studies, Online Cultural Studies\n",
      "Guy Liu\n",
      "Professor\n",
      "PhD in Economics\n",
      "Fields:China’s enterprise reform and development\n",
      "Jun Lu\n",
      "Assistant Professor\n",
      "PhD,Risk Management & Insurance, Finance,University of Pennsylvania\n",
      "Fields:Investment Behavior, Financial Markets, Personal and Family Financial Management\n",
      "Seungjoon Oh\n",
      "Assistant Professor \n",
      "Ph.D., Finance, University of Michigan\n",
      "Fields:Corporate Finance, Real Estate Finance\n",
      "David Ong\n",
      "Assistant Professor\n",
      "PhD, Economics, University of California at Davis\n",
      "Fields:Experimental Economics, Behavioral Game Theory, Industrial Organization\n",
      "Liangyi Ouyang\n",
      "Associate Professor\n",
      "PhD in Finance, The University of Hong Kong\n",
      "Fields:Financial Derivatives, Private Equity, Capital Markets\n",
      "Young Joon Park\n",
      "Assistant Professor\n",
      "PhD, Economics, University of California at San Diego\n",
      "Fields:Behavioral Economics, Experimental Economics, and Game Theory\n",
      "Jooyoung Park\n",
      "Assistant Professor \n",
      "Marketing, University of Iowa\n",
      "Fields:Marketing, Consumer Information Processing, Consumer Motivation and Self-Regulation, Embodied Cognition, Brand Management \n",
      "Ting Ren\n",
      "Associate Professor, Associate Dean, Director of Enterprises Development Institute\n",
      "PhD, Human Resources and Industrial Relations, University of Minnesota\n",
      "Fields:Organizational Design, Ownership and Corporate Governance, Human Resources and Labor Studies, Behavioral Economics\n",
      "Jiao Shi\n",
      "Assistant Professor\n",
      "Ph.D. in Economics, University of Wisconsin \n",
      "Fields:International Macroeconomics, Foreign Direct Investment, Macroeconomics\n",
      "Sungbin Sohn\n",
      "Assistant Professor \n",
      "PhD, Economics, University of California, Berkeley\n",
      "Fields:Empirical and Theoretical Asset pricing\n",
      "Lei Sun\n",
      "Assistant Professor\n",
      "PhD, Finance, Lancaster University\n",
      "Fields:Financial Economics, Behavior Finance, Derivative Pricing\n",
      "Domenico Tarzia\n",
      "Assistant Professor\n",
      "Ph.D., Finance, Bocconi University, Milan, Italy\n",
      "Fields:Option pricing, Financial modelling, Stochastic processes\n",
      "Naqiong Tong\n",
      "Assistant Professor\n",
      "PhD, Rutgers-The State University of New Jersey\n",
      "Fields:CEO Compensation, Corporate Governance, Managerial Forecasts, Voluntary Disclosures, Analyst Forecasts, Tax Planning\n",
      "Zhiyong Tu\n",
      "Associate Professor\n",
      "PhD, Economics, University of Pittsburgh\n",
      "Fields:Financial Economics, Commodity Markets, Game Theory & Application\n",
      "Chunyang Wang\n",
      "Associate Professor\n",
      "PhD, Economics, University of Minnesota \n",
      "Fields:Macroeconomics and Monetary Economics, Banking, Financial Crisis, Macro Finance, Financial Regulation, Financial Econometrics, Chinese Economy\n",
      "Qing Wang\n",
      "Assistant Professor\n",
      "Ph.D., Economics, University of Illinois at Urbana-Champaign\n",
      "Fields: Labor and Demographic Economics, Development Economics, Entrepreneurship, Public Policy\n",
      "Wei Wei\n",
      "Associate Professor & Associate Dean\n",
      "PhD, Management Science, Huazhong University of Science and Technology \n",
      "Fields:Strategic Management, Business Model Design, Organization Economics\n",
      "Wei Xu\n",
      "Assistant Professor\n",
      "PhD, Finance, Quantitative Methods, Purdue University \n",
      "Fields:Investment\n",
      "Yang Xu\n",
      "Assistant Professor\n",
      "PhD,  Economics, The University of Chicago\n",
      "Fields:Behavioral Economics, Experimental Economics, Industrial Organization, Applied Econometrics, Public Economics\n",
      "Juan Yang\n",
      "Assistant Professor\n",
      "PhD, Agricultural Economics, Texas A&M; University \n",
      "Fields:Macro and Monetary Economics; New Energy and Policy Analysis, Applied Economics; Time Series Analysis.\n",
      "Weiming Ye\n",
      "Assistant Professor\n",
      "Ph. D. Peking University\n",
      "Fields:ICTs (Information & Communication Technologies) and Society, Social Media and Social Networks, Online Community and Subculture\n",
      "C. James Yen\n",
      "Assistant Professor\n",
      "Ph.D., Organization and Strategy, Washington University in St. Louis\n",
      "Fields:Strategic Management; Organizational Economics\n",
      "Yeujun Yoon\n",
      "Assistant Professor \n",
      "PhD, Marketing, Washington University in St. Louis\n",
      "Fields:Advertising Competition, Channel Management, Sports marketing, e-Commerce, Corporate Social Responsibility(CSR) \n",
      "Yilin Zhang\n",
      "Assistant Professor\n",
      "Ph.D., Finance, University of Illinois Urbana-Champaign\n",
      "Fields:Asset pricing, dynamic macroeconomics, commodities\n",
      "Jake Zhao\n",
      "Assistant Professor\n",
      "PhD,  Economics,  University of Wisconsin-Madison\n",
      "Fields:Macro-Finance, Corporate Finance\n",
      "Deming Zhou\n",
      "Assistant Professor\n",
      "Ph.D in Decisions, Operations, and Technology Management, UCLA\n",
      "Read More ...\n",
      "Yu Zhou\n",
      "Assistant Professor\n",
      "PhD, Economics, Ohio State University\n",
      "Fields:Real Estate and Housing Economics, Urban Economics\n",
      "Hong Zhu\n",
      "Assistant Professor \n",
      "Ph.D., Strategic Management, Texas A&M; University\n",
      "Fields:Strategic management, Mergers and Acquisitions (M&As;), Strategic leadership (CEO, Top management team and boards of directors), Chinese firms’ M&As; and strategic leadership  \n",
      "Xiaotian Zhu\n",
      "Associate Professor\n",
      "PhD in Finance \n",
      "Fields:Quant modeling and algorithmic trading for equities, equity derivatives and fixed income\n"
     ]
    }
   ],
   "source": [
    "# first attempt: just print out all of the stuff we want\n",
    "for li_tag in soup.find_all(\"li\", attrs={\"class\": \"szll_box\"}):\n",
    "    h3_tag = li_tag.find(\"h3\")\n",
    "    print(h3_tag.string)\n",
    "    p_tags = li_tag.find_all(\"p\")\n",
    "    print(p_tags[0].string)\n",
    "    print(p_tags[1].string)\n",
    "    print(p_tags[2].string)"
   ]
  },
  {
   "cell_type": "code",
   "execution_count": 84,
   "metadata": {},
   "outputs": [],
   "source": [
    "# next step: get a list of dictionaries\n",
    "professors = []\n",
    "for li_tag in soup.find_all(\"li\", attrs={\"class\": \"szll_box\"}):\n",
    "    h3_tag = li_tag.find(\"h3\")\n",
    "    p_tags = li_tag.find_all(\"p\")\n",
    "    this_prof = {\n",
    "        \"name\": h3_tag.string,\n",
    "        \"title\": p_tags[0].string.strip(),\n",
    "        \"creds\": p_tags[1].string,\n",
    "        \"fields\": p_tags[2].string\n",
    "    }\n",
    "    professors.append(this_prof)"
   ]
  },
  {
   "cell_type": "markdown",
   "metadata": {},
   "source": [
    "Once you have a list of dictionaries, the world opens up to you."
   ]
  },
  {
   "cell_type": "code",
   "execution_count": 57,
   "metadata": {
    "scrolled": true
   },
   "outputs": [
    {
     "data": {
      "text/plain": [
       "[{'creds': 'PhD, Political Economics, University of California at Irvine',\n",
       "  'fields': 'Fields:Political Economics',\n",
       "  'name': 'Christopher Balding',\n",
       "  'title': 'Associate Professor'},\n",
       " {'creds': 'PhD in finance, University of Virginia',\n",
       "  'fields': 'Fields:Finance and Econometrics',\n",
       "  'name': 'Erik Benrud',\n",
       "  'title': 'Professor'},\n",
       " {'creds': 'Ph. D. in Finance, Texas A&M; University',\n",
       "  'fields': 'Fields:Finance - Corporate Finance; Asset Valuation',\n",
       "  'name': 'Hursit Selcuk Celil',\n",
       "  'title': 'Assistant Professor'},\n",
       " {'creds': 'PhD, Applied Economics and Management, CORNELL UNIVERSITY',\n",
       "  'fields': 'Fields:Corporate Finance, Corporate Governance',\n",
       "  'name': 'Wei Cen',\n",
       "  'title': 'Assistant Professor'},\n",
       " {'creds': 'PhD, Business Administration, Washington State University',\n",
       "  'fields': 'Fields:Corporate Strategy and International Business',\n",
       "  'name': 'Kevin Chastagner',\n",
       "  'title': 'Assistant Professor'},\n",
       " {'creds': 'PhD, Operations Management and Econometrics,the University of Sydney',\n",
       "  'fields': 'Fields:Bayesian inference, extreme event forecasting',\n",
       "  'name': 'Qian Chen',\n",
       "  'title': 'Assistant Professor'},\n",
       " {'creds': 'Ph.D. in Applied Mathematics, Massachusetts Institute of Technology',\n",
       "  'fields': 'Fields:Quantitative ﬁnance, Mathematical modelling, Numerical methods, Data science',\n",
       "  'name': 'Jaehyuk Choi',\n",
       "  'title': 'Assistant Professor'},\n",
       " {'creds': 'Ph.D.in Economics, University of California, San Diego',\n",
       "  'fields': 'Fields:Econometric theory, Time Series Analysis',\n",
       "  'name': 'Chia-Shang J. Chu',\n",
       "  'title': 'Professor'},\n",
       " {'creds': 'Ph.D., Management, Chinese Academy of Social Sciences',\n",
       "  'fields': 'Fields:Oriental Economics, Cartography Analysis of Economics, Management System Design, Business Model Design, Infeasibility Analysis, Service Chain Management, Management Experiment Science, Law Metrology , etc.',\n",
       "  'name': 'Tianyu Dai',\n",
       "  'title': 'Associate Professor'},\n",
       " {'creds': 'PhD, Graduate School of Chinese Academy of Social Science',\n",
       "  'fields': 'Fields:Macroeconomics and Chinese macroeconomic policy',\n",
       "  'name': 'Gang Fan',\n",
       "  'title': 'Professor'},\n",
       " {'creds': 'PhD, Applied Economics, University of Pennsylvania',\n",
       "  'fields': 'Fields:Healthcare financing and policy; public health and health services researches; industrial development (especially pharmaceutical industry)',\n",
       "  'name': 'Yan Feng',\n",
       "  'title': 'Assistant Professor'},\n",
       " {'creds': 'PhD, Computer Science, Carnegie Mellon Univ. & EdD, Organization Change, Pepperdine Univ.',\n",
       "  'fields': 'Fields:Organizational Behavior, Mergers & Acquisitions, Post-Merger Integration, Organizational Networks',\n",
       "  'name': 'Terrill L. Frantz',\n",
       "  'title': 'Assistant Professor of Management'},\n",
       " {'creds': 'Ph.D.  Finance/Economics, Columbia University',\n",
       "  'fields': 'Fields:Asset Pricing, Market Micro-structure',\n",
       "  'name': 'Chang Yong Ha',\n",
       "  'title': 'Assistant Professor'},\n",
       " {'creds': 'PhD, University of California at Davis',\n",
       "  'fields': 'Read More ...',\n",
       "  'name': 'Wen Hai',\n",
       "  'title': 'Vice Chairman of Peking University Council'},\n",
       " {'creds': 'PhD in Economics',\n",
       "  'fields': 'Fields:Chinese macro-economy, international finance, and international political economy',\n",
       "  'name': 'Fan He',\n",
       "  'title': 'Professor'},\n",
       " {'creds': 'PhD, Humboldt University in Berlin',\n",
       "  'fields': 'Fields:Economic Transition; Strategic management; Regional economics; Green Economy',\n",
       "  'name': 'Haifeng Huang',\n",
       "  'title': 'Assistant Dean'},\n",
       " {'creds': 'DPhil, Financial Economics, University of Oxford',\n",
       "  'fields': 'Fields:Corporate Finance, Stock Markets, Macroeconomic Implications of Corporate Finance, Regulation of Financial Markets',\n",
       "  'name': 'Hyun Joong Im',\n",
       "  'title': 'Assistant Professor'},\n",
       " {'creds': 'PhD, Risk Management and Insurance, University of Wisconsin-Madison',\n",
       "  'fields': 'Fields:Corporate Risk Management, Insurance Company Operations, Insurance Economics, Corporate Finance, Financial Derivatives',\n",
       "  'name': 'Lan Ju',\n",
       "  'title': 'Associate Professor'},\n",
       " {'creds': 'PhD, Finance, Indiana University',\n",
       "  'fields': 'Fields:Empirical and theoretical corporate finance',\n",
       "  'name': 'Daniel Sungyeon Kim',\n",
       "  'title': 'Assistant Professor'},\n",
       " {'creds': 'PhD, Finance, Tulane University',\n",
       "  'fields': 'Fields:Corporate Finance and Governance, Heterogeneous Beliefs and Agents, Investments',\n",
       "  'name': 'Frank (Fritz) H. Koger',\n",
       "  'title': 'Assistant Professor'},\n",
       " {'creds': 'Ph.D., Human Resources and Industrial Relations, University of Minnesota',\n",
       "  'fields': 'Fields:Human Resources and Industrial Relations, Organization Theory, Corporate Culture',\n",
       "  'name': 'Fanmin Kong',\n",
       "  'title': 'Associate Professor'},\n",
       " {'creds': 'PhD, Strategy & Entrepreneurship, University of Illinois at Urbana-Champaign',\n",
       "  'fields': 'Fields:Innovation and Entrepreneurship, International Business Management, Corporate Strategy',\n",
       "  'name': 'Sai Lan',\n",
       "  'title': 'Assistant Professor'},\n",
       " {'creds': 'Ph.D in Operations Management, University of Maryland',\n",
       "  'fields': 'Fields:Revenue Management, Operations Management, Logistics and Supply Chain Management',\n",
       "  'name': 'Yingjie Lan',\n",
       "  'title': 'Assistant Professor '},\n",
       " {'creds': 'Ph.D. in Economics, University of Washington',\n",
       "  'fields': 'Fields:Public Finance, Health Economics, Applied-Microeconomics',\n",
       "  'name': 'Daeyong Lee',\n",
       "  'title': 'Assistant Professor'},\n",
       " {'creds': 'PhD in Economics, University of California, Berkeley',\n",
       "  'fields': 'Fields:Public Economics (Public Finance), Public Pension, Taxation, Public Debt',\n",
       "  'name': 'Insook Lee',\n",
       "  'title': 'Assistant Professor'},\n",
       " {'creds': 'Ph.D., Accounting, Georgia State University',\n",
       "  'fields': 'Fields:Financial accounting, Earnings management, Firm',\n",
       "  'name': 'Nan Liu',\n",
       "  'title': 'Assistant Professor '},\n",
       " {'creds': 'PhD in Communication',\n",
       "  'fields': 'Fields:Leadership, Corporate Culture, Organizational Communication',\n",
       "  'name': 'Lan Liu',\n",
       "  'title': 'Teaching Associate Professor'},\n",
       " {'creds': 'Ph. D. The Chinese University of Hong Kong',\n",
       "  'fields': 'Fields:Sociology of Technology, Developmental Communication Studies, Online Cultural Studies',\n",
       "  'name': 'Yang Liu',\n",
       "  'title': 'Assistant Professor'},\n",
       " {'creds': 'PhD in Economics',\n",
       "  'fields': 'Fields:China’s enterprise reform and development',\n",
       "  'name': 'Guy Liu',\n",
       "  'title': 'Professor'},\n",
       " {'creds': 'PhD,Risk Management & Insurance, Finance,University of Pennsylvania',\n",
       "  'fields': 'Fields:Investment Behavior, Financial Markets, Personal and Family Financial Management',\n",
       "  'name': 'Jun Lu',\n",
       "  'title': 'Assistant Professor'},\n",
       " {'creds': 'Ph.D., Finance, University of Michigan',\n",
       "  'fields': 'Fields:Corporate Finance, Real Estate Finance',\n",
       "  'name': 'Seungjoon Oh',\n",
       "  'title': 'Assistant Professor '},\n",
       " {'creds': 'PhD, Economics, University of California at Davis',\n",
       "  'fields': 'Fields:Experimental Economics, Behavioral Game Theory, Industrial Organization',\n",
       "  'name': 'David Ong',\n",
       "  'title': 'Assistant Professor'},\n",
       " {'creds': 'PhD in Finance, The University of Hong Kong',\n",
       "  'fields': 'Fields:Financial Derivatives, Private Equity, Capital Markets',\n",
       "  'name': 'Liangyi Ouyang',\n",
       "  'title': 'Associate Professor'},\n",
       " {'creds': 'PhD, Economics, University of California at San Diego',\n",
       "  'fields': 'Fields:Behavioral Economics, Experimental Economics, and Game Theory',\n",
       "  'name': 'Young Joon Park',\n",
       "  'title': 'Assistant Professor'},\n",
       " {'creds': 'Marketing, University of Iowa',\n",
       "  'fields': 'Fields:Marketing, Consumer Information Processing, Consumer Motivation and Self-Regulation, Embodied Cognition, Brand Management ',\n",
       "  'name': 'Jooyoung Park',\n",
       "  'title': 'Assistant Professor '},\n",
       " {'creds': 'PhD, Human Resources and Industrial Relations, University of Minnesota',\n",
       "  'fields': 'Fields:Organizational Design, Ownership and Corporate Governance, Human Resources and Labor Studies, Behavioral Economics',\n",
       "  'name': 'Ting Ren',\n",
       "  'title': 'Associate Professor, Associate Dean, Director of Enterprises Development Institute'},\n",
       " {'creds': 'Ph.D. in Economics, University of Wisconsin ',\n",
       "  'fields': 'Fields:International Macroeconomics, Foreign Direct Investment, Macroeconomics',\n",
       "  'name': 'Jiao Shi',\n",
       "  'title': 'Assistant Professor'},\n",
       " {'creds': 'PhD, Economics, University of California, Berkeley',\n",
       "  'fields': 'Fields:Empirical and Theoretical Asset pricing',\n",
       "  'name': 'Sungbin Sohn',\n",
       "  'title': 'Assistant Professor '},\n",
       " {'creds': 'PhD, Finance, Lancaster University',\n",
       "  'fields': 'Fields:Financial Economics, Behavior Finance, Derivative Pricing',\n",
       "  'name': 'Lei Sun',\n",
       "  'title': 'Assistant Professor'},\n",
       " {'creds': 'Ph.D., Finance, Bocconi University, Milan, Italy',\n",
       "  'fields': 'Fields:Option pricing, Financial modelling, Stochastic processes',\n",
       "  'name': 'Domenico Tarzia',\n",
       "  'title': 'Assistant Professor'},\n",
       " {'creds': 'PhD, Rutgers-The State University of New Jersey',\n",
       "  'fields': 'Fields:CEO Compensation, Corporate Governance, Managerial Forecasts, Voluntary Disclosures, Analyst Forecasts, Tax Planning',\n",
       "  'name': 'Naqiong Tong',\n",
       "  'title': 'Assistant Professor'},\n",
       " {'creds': 'PhD, Economics, University of Pittsburgh',\n",
       "  'fields': 'Fields:Financial Economics, Commodity Markets, Game Theory & Application',\n",
       "  'name': 'Zhiyong Tu',\n",
       "  'title': 'Associate Professor'},\n",
       " {'creds': 'PhD, Economics, University of Minnesota ',\n",
       "  'fields': 'Fields:Macroeconomics and Monetary Economics, Banking, Financial Crisis, Macro Finance, Financial Regulation, Financial Econometrics, Chinese Economy',\n",
       "  'name': 'Chunyang Wang',\n",
       "  'title': 'Associate Professor'},\n",
       " {'creds': 'Ph.D., Economics, University of Illinois at Urbana-Champaign',\n",
       "  'fields': 'Fields: Labor and Demographic Economics, Development Economics, Entrepreneurship, Public Policy',\n",
       "  'name': 'Qing Wang',\n",
       "  'title': 'Assistant Professor'},\n",
       " {'creds': 'PhD, Management Science, Huazhong University of Science and Technology ',\n",
       "  'fields': 'Fields:Strategic Management, Business Model Design, Organization Economics',\n",
       "  'name': 'Wei Wei',\n",
       "  'title': 'Associate Professor & Associate Dean'},\n",
       " {'creds': 'PhD, Finance, Quantitative Methods, Purdue University ',\n",
       "  'fields': 'Fields:Investment',\n",
       "  'name': 'Wei Xu',\n",
       "  'title': 'Assistant Professor'},\n",
       " {'creds': 'PhD,  Economics, The University of Chicago',\n",
       "  'fields': 'Fields:Behavioral Economics, Experimental Economics, Industrial Organization, Applied Econometrics, Public Economics',\n",
       "  'name': 'Yang Xu',\n",
       "  'title': 'Assistant Professor'},\n",
       " {'creds': 'PhD, Agricultural Economics, Texas A&M; University ',\n",
       "  'fields': 'Fields:Macro and Monetary Economics; New Energy and Policy Analysis, Applied Economics; Time Series Analysis.',\n",
       "  'name': 'Juan Yang',\n",
       "  'title': 'Assistant Professor'},\n",
       " {'creds': 'Ph. D. Peking University',\n",
       "  'fields': 'Fields:ICTs (Information & Communication Technologies) and Society, Social Media and Social Networks, Online Community and Subculture',\n",
       "  'name': 'Weiming Ye',\n",
       "  'title': 'Assistant Professor'},\n",
       " {'creds': 'Ph.D., Organization and Strategy, Washington University in St. Louis',\n",
       "  'fields': 'Fields:Strategic Management; Organizational Economics',\n",
       "  'name': 'C. James Yen',\n",
       "  'title': 'Assistant Professor'},\n",
       " {'creds': 'PhD, Marketing, Washington University in St. Louis',\n",
       "  'fields': 'Fields:Advertising Competition, Channel Management, Sports marketing, e-Commerce, Corporate Social Responsibility(CSR) ',\n",
       "  'name': 'Yeujun Yoon',\n",
       "  'title': 'Assistant Professor '},\n",
       " {'creds': 'Ph.D., Finance, University of Illinois Urbana-Champaign',\n",
       "  'fields': 'Fields:Asset pricing, dynamic macroeconomics, commodities',\n",
       "  'name': 'Yilin Zhang',\n",
       "  'title': 'Assistant Professor'},\n",
       " {'creds': 'PhD,  Economics,  University of Wisconsin-Madison',\n",
       "  'fields': 'Fields:Macro-Finance, Corporate Finance',\n",
       "  'name': 'Jake Zhao',\n",
       "  'title': 'Assistant Professor'},\n",
       " {'creds': 'Ph.D in Decisions, Operations, and Technology Management, UCLA',\n",
       "  'fields': 'Read More ...',\n",
       "  'name': 'Deming Zhou',\n",
       "  'title': 'Assistant Professor'},\n",
       " {'creds': 'PhD, Economics, Ohio State University',\n",
       "  'fields': 'Fields:Real Estate and Housing Economics, Urban Economics',\n",
       "  'name': 'Yu Zhou',\n",
       "  'title': 'Assistant Professor'},\n",
       " {'creds': 'Ph.D., Strategic Management, Texas A&M; University',\n",
       "  'fields': 'Fields:Strategic management, Mergers and Acquisitions (M&As;), Strategic leadership (CEO, Top management team and boards of directors), Chinese firms’ M&As; and strategic leadership  ',\n",
       "  'name': 'Hong Zhu',\n",
       "  'title': 'Assistant Professor '},\n",
       " {'creds': 'PhD in Finance ',\n",
       "  'fields': 'Fields:Quant modeling and algorithmic trading for equities, equity derivatives and fixed income',\n",
       "  'name': 'Xiaotian Zhu',\n",
       "  'title': 'Associate Professor'}]"
      ]
     },
     "execution_count": 57,
     "metadata": {},
     "output_type": "execute_result"
    }
   ],
   "source": [
    "professors"
   ]
  },
  {
   "cell_type": "code",
   "execution_count": 85,
   "metadata": {},
   "outputs": [
    {
     "data": {
      "text/plain": [
       "[('Assistant Professor', 38),\n",
       " ('Associate Professor', 8),\n",
       " ('Professor', 5),\n",
       " ('Assistant Professor of Management', 1),\n",
       " ('Vice Chairman of Peking University Council', 1),\n",
       " ('Assistant Dean', 1),\n",
       " ('Teaching Associate Professor', 1),\n",
       " ('Associate Professor, Associate Dean, Director of Enterprises Development Institute',\n",
       "  1),\n",
       " ('Associate Professor & Associate Dean', 1)]"
      ]
     },
     "execution_count": 85,
     "metadata": {},
     "output_type": "execute_result"
    }
   ],
   "source": [
    "from collections import Counter\n",
    "c = Counter([item[\"title\"] for item in professors])\n",
    "c.most_common()"
   ]
  },
  {
   "cell_type": "code",
   "execution_count": 62,
   "metadata": {},
   "outputs": [
    {
     "data": {
      "text/plain": [
       "57"
      ]
     },
     "execution_count": 62,
     "metadata": {},
     "output_type": "execute_result"
    }
   ],
   "source": [
    "len(professors)"
   ]
  },
  {
   "cell_type": "code",
   "execution_count": 65,
   "metadata": {},
   "outputs": [
    {
     "data": {
      "text/plain": [
       "36"
      ]
     },
     "execution_count": 65,
     "metadata": {},
     "output_type": "execute_result"
    }
   ],
   "source": [
    "len([item[\"creds\"] for item in professors if \"PhD\" in item[\"creds\"]])"
   ]
  },
  {
   "cell_type": "code",
   "execution_count": 68,
   "metadata": {},
   "outputs": [
    {
     "data": {
      "text/plain": [
       "16"
      ]
     },
     "execution_count": 68,
     "metadata": {},
     "output_type": "execute_result"
    }
   ],
   "source": [
    "len([item[\"creds\"] for item in professors if \"Ph.D\" in item[\"creds\"]])"
   ]
  },
  {
   "cell_type": "code",
   "execution_count": 70,
   "metadata": {},
   "outputs": [
    {
     "data": {
      "text/plain": [
       "52"
      ]
     },
     "execution_count": 70,
     "metadata": {},
     "output_type": "execute_result"
    }
   ],
   "source": [
    "36 + 16"
   ]
  },
  {
   "cell_type": "code",
   "execution_count": 86,
   "metadata": {
    "collapsed": true
   },
   "outputs": [],
   "source": [
    "import pandas as pd"
   ]
  },
  {
   "cell_type": "code",
   "execution_count": 92,
   "metadata": {
    "collapsed": true
   },
   "outputs": [],
   "source": [
    "df = pd.DataFrame(professors, columns=[\"name\", \"title\", \"creds\", \"fields\"])"
   ]
  },
  {
   "cell_type": "code",
   "execution_count": 93,
   "metadata": {},
   "outputs": [
    {
     "data": {
      "text/html": [
       "<div>\n",
       "<style>\n",
       "    .dataframe thead tr:only-child th {\n",
       "        text-align: right;\n",
       "    }\n",
       "\n",
       "    .dataframe thead th {\n",
       "        text-align: left;\n",
       "    }\n",
       "\n",
       "    .dataframe tbody tr th {\n",
       "        vertical-align: top;\n",
       "    }\n",
       "</style>\n",
       "<table border=\"1\" class=\"dataframe\">\n",
       "  <thead>\n",
       "    <tr style=\"text-align: right;\">\n",
       "      <th></th>\n",
       "      <th>name</th>\n",
       "      <th>title</th>\n",
       "      <th>creds</th>\n",
       "      <th>fields</th>\n",
       "    </tr>\n",
       "  </thead>\n",
       "  <tbody>\n",
       "    <tr>\n",
       "      <th>0</th>\n",
       "      <td>Christopher Balding</td>\n",
       "      <td>Associate Professor</td>\n",
       "      <td>PhD, Political Economics, University of Califo...</td>\n",
       "      <td>Fields:Political Economics</td>\n",
       "    </tr>\n",
       "    <tr>\n",
       "      <th>1</th>\n",
       "      <td>Erik Benrud</td>\n",
       "      <td>Professor</td>\n",
       "      <td>PhD in finance, University of Virginia</td>\n",
       "      <td>Fields:Finance and Econometrics</td>\n",
       "    </tr>\n",
       "    <tr>\n",
       "      <th>2</th>\n",
       "      <td>Hursit Selcuk Celil</td>\n",
       "      <td>Assistant Professor</td>\n",
       "      <td>Ph. D. in Finance, Texas A&amp;M; University</td>\n",
       "      <td>Fields:Finance - Corporate Finance; Asset Valu...</td>\n",
       "    </tr>\n",
       "    <tr>\n",
       "      <th>3</th>\n",
       "      <td>Wei Cen</td>\n",
       "      <td>Assistant Professor</td>\n",
       "      <td>PhD, Applied Economics and Management, CORNELL...</td>\n",
       "      <td>Fields:Corporate Finance, Corporate Governance</td>\n",
       "    </tr>\n",
       "    <tr>\n",
       "      <th>4</th>\n",
       "      <td>Kevin Chastagner</td>\n",
       "      <td>Assistant Professor</td>\n",
       "      <td>PhD, Business Administration, Washington State...</td>\n",
       "      <td>Fields:Corporate Strategy and International Bu...</td>\n",
       "    </tr>\n",
       "    <tr>\n",
       "      <th>5</th>\n",
       "      <td>Qian Chen</td>\n",
       "      <td>Assistant Professor</td>\n",
       "      <td>PhD, Operations Management and Econometrics,th...</td>\n",
       "      <td>Fields:Bayesian inference, extreme event forec...</td>\n",
       "    </tr>\n",
       "    <tr>\n",
       "      <th>6</th>\n",
       "      <td>Jaehyuk Choi</td>\n",
       "      <td>Assistant Professor</td>\n",
       "      <td>Ph.D. in Applied Mathematics, Massachusetts In...</td>\n",
       "      <td>Fields:Quantitative ﬁnance, Mathematical model...</td>\n",
       "    </tr>\n",
       "    <tr>\n",
       "      <th>7</th>\n",
       "      <td>Chia-Shang J. Chu</td>\n",
       "      <td>Professor</td>\n",
       "      <td>Ph.D.in Economics, University of California, S...</td>\n",
       "      <td>Fields:Econometric theory, Time Series Analysis</td>\n",
       "    </tr>\n",
       "    <tr>\n",
       "      <th>8</th>\n",
       "      <td>Tianyu Dai</td>\n",
       "      <td>Associate Professor</td>\n",
       "      <td>Ph.D., Management, Chinese Academy of Social S...</td>\n",
       "      <td>Fields:Oriental Economics, Cartography Analysi...</td>\n",
       "    </tr>\n",
       "    <tr>\n",
       "      <th>9</th>\n",
       "      <td>Gang Fan</td>\n",
       "      <td>Professor</td>\n",
       "      <td>PhD, Graduate School of Chinese Academy of Soc...</td>\n",
       "      <td>Fields:Macroeconomics and Chinese macroeconomi...</td>\n",
       "    </tr>\n",
       "    <tr>\n",
       "      <th>10</th>\n",
       "      <td>Yan Feng</td>\n",
       "      <td>Assistant Professor</td>\n",
       "      <td>PhD, Applied Economics, University of Pennsylv...</td>\n",
       "      <td>Fields:Healthcare financing and policy; public...</td>\n",
       "    </tr>\n",
       "    <tr>\n",
       "      <th>11</th>\n",
       "      <td>Terrill L. Frantz</td>\n",
       "      <td>Assistant Professor of Management</td>\n",
       "      <td>PhD, Computer Science, Carnegie Mellon Univ. &amp;...</td>\n",
       "      <td>Fields:Organizational Behavior, Mergers &amp; Acqu...</td>\n",
       "    </tr>\n",
       "    <tr>\n",
       "      <th>12</th>\n",
       "      <td>Chang Yong Ha</td>\n",
       "      <td>Assistant Professor</td>\n",
       "      <td>Ph.D.  Finance/Economics, Columbia University</td>\n",
       "      <td>Fields:Asset Pricing, Market Micro-structure</td>\n",
       "    </tr>\n",
       "    <tr>\n",
       "      <th>13</th>\n",
       "      <td>Wen Hai</td>\n",
       "      <td>Vice Chairman of Peking University Council</td>\n",
       "      <td>PhD, University of California at Davis</td>\n",
       "      <td>Read More ...</td>\n",
       "    </tr>\n",
       "    <tr>\n",
       "      <th>14</th>\n",
       "      <td>Fan He</td>\n",
       "      <td>Professor</td>\n",
       "      <td>PhD in Economics</td>\n",
       "      <td>Fields:Chinese macro-economy, international fi...</td>\n",
       "    </tr>\n",
       "    <tr>\n",
       "      <th>15</th>\n",
       "      <td>Haifeng Huang</td>\n",
       "      <td>Assistant Dean</td>\n",
       "      <td>PhD, Humboldt University in Berlin</td>\n",
       "      <td>Fields:Economic Transition; Strategic manageme...</td>\n",
       "    </tr>\n",
       "    <tr>\n",
       "      <th>16</th>\n",
       "      <td>Hyun Joong Im</td>\n",
       "      <td>Assistant Professor</td>\n",
       "      <td>DPhil, Financial Economics, University of Oxford</td>\n",
       "      <td>Fields:Corporate Finance, Stock Markets, Macro...</td>\n",
       "    </tr>\n",
       "    <tr>\n",
       "      <th>17</th>\n",
       "      <td>Lan Ju</td>\n",
       "      <td>Associate Professor</td>\n",
       "      <td>PhD, Risk Management and Insurance, University...</td>\n",
       "      <td>Fields:Corporate Risk Management, Insurance Co...</td>\n",
       "    </tr>\n",
       "    <tr>\n",
       "      <th>18</th>\n",
       "      <td>Daniel Sungyeon Kim</td>\n",
       "      <td>Assistant Professor</td>\n",
       "      <td>PhD, Finance, Indiana University</td>\n",
       "      <td>Fields:Empirical and theoretical corporate fin...</td>\n",
       "    </tr>\n",
       "    <tr>\n",
       "      <th>19</th>\n",
       "      <td>Frank (Fritz) H. Koger</td>\n",
       "      <td>Assistant Professor</td>\n",
       "      <td>PhD, Finance, Tulane University</td>\n",
       "      <td>Fields:Corporate Finance and Governance, Heter...</td>\n",
       "    </tr>\n",
       "    <tr>\n",
       "      <th>20</th>\n",
       "      <td>Fanmin Kong</td>\n",
       "      <td>Associate Professor</td>\n",
       "      <td>Ph.D., Human Resources and Industrial Relation...</td>\n",
       "      <td>Fields:Human Resources and Industrial Relation...</td>\n",
       "    </tr>\n",
       "    <tr>\n",
       "      <th>21</th>\n",
       "      <td>Sai Lan</td>\n",
       "      <td>Assistant Professor</td>\n",
       "      <td>PhD, Strategy &amp; Entrepreneurship, University o...</td>\n",
       "      <td>Fields:Innovation and Entrepreneurship, Intern...</td>\n",
       "    </tr>\n",
       "    <tr>\n",
       "      <th>22</th>\n",
       "      <td>Yingjie Lan</td>\n",
       "      <td>Assistant Professor</td>\n",
       "      <td>Ph.D in Operations Management, University of M...</td>\n",
       "      <td>Fields:Revenue Management, Operations Manageme...</td>\n",
       "    </tr>\n",
       "    <tr>\n",
       "      <th>23</th>\n",
       "      <td>Daeyong Lee</td>\n",
       "      <td>Assistant Professor</td>\n",
       "      <td>Ph.D. in Economics, University of Washington</td>\n",
       "      <td>Fields:Public Finance, Health Economics, Appli...</td>\n",
       "    </tr>\n",
       "    <tr>\n",
       "      <th>24</th>\n",
       "      <td>Insook Lee</td>\n",
       "      <td>Assistant Professor</td>\n",
       "      <td>PhD in Economics, University of California, Be...</td>\n",
       "      <td>Fields:Public Economics (Public Finance), Publ...</td>\n",
       "    </tr>\n",
       "    <tr>\n",
       "      <th>25</th>\n",
       "      <td>Nan Liu</td>\n",
       "      <td>Assistant Professor</td>\n",
       "      <td>Ph.D., Accounting, Georgia State University</td>\n",
       "      <td>Fields:Financial accounting, Earnings manageme...</td>\n",
       "    </tr>\n",
       "    <tr>\n",
       "      <th>26</th>\n",
       "      <td>Lan Liu</td>\n",
       "      <td>Teaching Associate Professor</td>\n",
       "      <td>PhD in Communication</td>\n",
       "      <td>Fields:Leadership, Corporate Culture, Organiza...</td>\n",
       "    </tr>\n",
       "    <tr>\n",
       "      <th>27</th>\n",
       "      <td>Yang Liu</td>\n",
       "      <td>Assistant Professor</td>\n",
       "      <td>Ph. D. The Chinese University of Hong Kong</td>\n",
       "      <td>Fields:Sociology of Technology, Developmental ...</td>\n",
       "    </tr>\n",
       "    <tr>\n",
       "      <th>28</th>\n",
       "      <td>Guy Liu</td>\n",
       "      <td>Professor</td>\n",
       "      <td>PhD in Economics</td>\n",
       "      <td>Fields:China’s enterprise reform and development</td>\n",
       "    </tr>\n",
       "    <tr>\n",
       "      <th>29</th>\n",
       "      <td>Jun Lu</td>\n",
       "      <td>Assistant Professor</td>\n",
       "      <td>PhD,Risk Management &amp; Insurance, Finance,Unive...</td>\n",
       "      <td>Fields:Investment Behavior, Financial Markets,...</td>\n",
       "    </tr>\n",
       "    <tr>\n",
       "      <th>30</th>\n",
       "      <td>Seungjoon Oh</td>\n",
       "      <td>Assistant Professor</td>\n",
       "      <td>Ph.D., Finance, University of Michigan</td>\n",
       "      <td>Fields:Corporate Finance, Real Estate Finance</td>\n",
       "    </tr>\n",
       "    <tr>\n",
       "      <th>31</th>\n",
       "      <td>David Ong</td>\n",
       "      <td>Assistant Professor</td>\n",
       "      <td>PhD, Economics, University of California at Davis</td>\n",
       "      <td>Fields:Experimental Economics, Behavioral Game...</td>\n",
       "    </tr>\n",
       "    <tr>\n",
       "      <th>32</th>\n",
       "      <td>Liangyi Ouyang</td>\n",
       "      <td>Associate Professor</td>\n",
       "      <td>PhD in Finance, The University of Hong Kong</td>\n",
       "      <td>Fields:Financial Derivatives, Private Equity, ...</td>\n",
       "    </tr>\n",
       "    <tr>\n",
       "      <th>33</th>\n",
       "      <td>Young Joon Park</td>\n",
       "      <td>Assistant Professor</td>\n",
       "      <td>PhD, Economics, University of California at Sa...</td>\n",
       "      <td>Fields:Behavioral Economics, Experimental Econ...</td>\n",
       "    </tr>\n",
       "    <tr>\n",
       "      <th>34</th>\n",
       "      <td>Jooyoung Park</td>\n",
       "      <td>Assistant Professor</td>\n",
       "      <td>Marketing, University of Iowa</td>\n",
       "      <td>Fields:Marketing, Consumer Information Process...</td>\n",
       "    </tr>\n",
       "    <tr>\n",
       "      <th>35</th>\n",
       "      <td>Ting Ren</td>\n",
       "      <td>Associate Professor, Associate Dean, Director ...</td>\n",
       "      <td>PhD, Human Resources and Industrial Relations,...</td>\n",
       "      <td>Fields:Organizational Design, Ownership and Co...</td>\n",
       "    </tr>\n",
       "    <tr>\n",
       "      <th>36</th>\n",
       "      <td>Jiao Shi</td>\n",
       "      <td>Assistant Professor</td>\n",
       "      <td>Ph.D. in Economics, University of Wisconsin</td>\n",
       "      <td>Fields:International Macroeconomics, Foreign D...</td>\n",
       "    </tr>\n",
       "    <tr>\n",
       "      <th>37</th>\n",
       "      <td>Sungbin Sohn</td>\n",
       "      <td>Assistant Professor</td>\n",
       "      <td>PhD, Economics, University of California, Berk...</td>\n",
       "      <td>Fields:Empirical and Theoretical Asset pricing</td>\n",
       "    </tr>\n",
       "    <tr>\n",
       "      <th>38</th>\n",
       "      <td>Lei Sun</td>\n",
       "      <td>Assistant Professor</td>\n",
       "      <td>PhD, Finance, Lancaster University</td>\n",
       "      <td>Fields:Financial Economics, Behavior Finance, ...</td>\n",
       "    </tr>\n",
       "    <tr>\n",
       "      <th>39</th>\n",
       "      <td>Domenico Tarzia</td>\n",
       "      <td>Assistant Professor</td>\n",
       "      <td>Ph.D., Finance, Bocconi University, Milan, Italy</td>\n",
       "      <td>Fields:Option pricing, Financial modelling, St...</td>\n",
       "    </tr>\n",
       "    <tr>\n",
       "      <th>40</th>\n",
       "      <td>Naqiong Tong</td>\n",
       "      <td>Assistant Professor</td>\n",
       "      <td>PhD, Rutgers-The State University of New Jersey</td>\n",
       "      <td>Fields:CEO Compensation, Corporate Governance,...</td>\n",
       "    </tr>\n",
       "    <tr>\n",
       "      <th>41</th>\n",
       "      <td>Zhiyong Tu</td>\n",
       "      <td>Associate Professor</td>\n",
       "      <td>PhD, Economics, University of Pittsburgh</td>\n",
       "      <td>Fields:Financial Economics, Commodity Markets,...</td>\n",
       "    </tr>\n",
       "    <tr>\n",
       "      <th>42</th>\n",
       "      <td>Chunyang Wang</td>\n",
       "      <td>Associate Professor</td>\n",
       "      <td>PhD, Economics, University of Minnesota</td>\n",
       "      <td>Fields:Macroeconomics and Monetary Economics, ...</td>\n",
       "    </tr>\n",
       "    <tr>\n",
       "      <th>43</th>\n",
       "      <td>Qing Wang</td>\n",
       "      <td>Assistant Professor</td>\n",
       "      <td>Ph.D., Economics, University of Illinois at Ur...</td>\n",
       "      <td>Fields: Labor and Demographic Economics, Devel...</td>\n",
       "    </tr>\n",
       "    <tr>\n",
       "      <th>44</th>\n",
       "      <td>Wei Wei</td>\n",
       "      <td>Associate Professor &amp; Associate Dean</td>\n",
       "      <td>PhD, Management Science, Huazhong University o...</td>\n",
       "      <td>Fields:Strategic Management, Business Model De...</td>\n",
       "    </tr>\n",
       "    <tr>\n",
       "      <th>45</th>\n",
       "      <td>Wei Xu</td>\n",
       "      <td>Assistant Professor</td>\n",
       "      <td>PhD, Finance, Quantitative Methods, Purdue Uni...</td>\n",
       "      <td>Fields:Investment</td>\n",
       "    </tr>\n",
       "    <tr>\n",
       "      <th>46</th>\n",
       "      <td>Yang Xu</td>\n",
       "      <td>Assistant Professor</td>\n",
       "      <td>PhD,  Economics, The University of Chicago</td>\n",
       "      <td>Fields:Behavioral Economics, Experimental Econ...</td>\n",
       "    </tr>\n",
       "    <tr>\n",
       "      <th>47</th>\n",
       "      <td>Juan Yang</td>\n",
       "      <td>Assistant Professor</td>\n",
       "      <td>PhD, Agricultural Economics, Texas A&amp;M; Univer...</td>\n",
       "      <td>Fields:Macro and Monetary Economics; New Energ...</td>\n",
       "    </tr>\n",
       "    <tr>\n",
       "      <th>48</th>\n",
       "      <td>Weiming Ye</td>\n",
       "      <td>Assistant Professor</td>\n",
       "      <td>Ph. D. Peking University</td>\n",
       "      <td>Fields:ICTs (Information &amp; Communication Techn...</td>\n",
       "    </tr>\n",
       "    <tr>\n",
       "      <th>49</th>\n",
       "      <td>C. James Yen</td>\n",
       "      <td>Assistant Professor</td>\n",
       "      <td>Ph.D., Organization and Strategy, Washington U...</td>\n",
       "      <td>Fields:Strategic Management; Organizational Ec...</td>\n",
       "    </tr>\n",
       "    <tr>\n",
       "      <th>50</th>\n",
       "      <td>Yeujun Yoon</td>\n",
       "      <td>Assistant Professor</td>\n",
       "      <td>PhD, Marketing, Washington University in St. L...</td>\n",
       "      <td>Fields:Advertising Competition, Channel Manage...</td>\n",
       "    </tr>\n",
       "    <tr>\n",
       "      <th>51</th>\n",
       "      <td>Yilin Zhang</td>\n",
       "      <td>Assistant Professor</td>\n",
       "      <td>Ph.D., Finance, University of Illinois Urbana-...</td>\n",
       "      <td>Fields:Asset pricing, dynamic macroeconomics, ...</td>\n",
       "    </tr>\n",
       "    <tr>\n",
       "      <th>52</th>\n",
       "      <td>Jake Zhao</td>\n",
       "      <td>Assistant Professor</td>\n",
       "      <td>PhD,  Economics,  University of Wisconsin-Madison</td>\n",
       "      <td>Fields:Macro-Finance, Corporate Finance</td>\n",
       "    </tr>\n",
       "    <tr>\n",
       "      <th>53</th>\n",
       "      <td>Deming Zhou</td>\n",
       "      <td>Assistant Professor</td>\n",
       "      <td>Ph.D in Decisions, Operations, and Technology ...</td>\n",
       "      <td>Read More ...</td>\n",
       "    </tr>\n",
       "    <tr>\n",
       "      <th>54</th>\n",
       "      <td>Yu Zhou</td>\n",
       "      <td>Assistant Professor</td>\n",
       "      <td>PhD, Economics, Ohio State University</td>\n",
       "      <td>Fields:Real Estate and Housing Economics, Urba...</td>\n",
       "    </tr>\n",
       "    <tr>\n",
       "      <th>55</th>\n",
       "      <td>Hong Zhu</td>\n",
       "      <td>Assistant Professor</td>\n",
       "      <td>Ph.D., Strategic Management, Texas A&amp;M; Univer...</td>\n",
       "      <td>Fields:Strategic management, Mergers and Acqui...</td>\n",
       "    </tr>\n",
       "    <tr>\n",
       "      <th>56</th>\n",
       "      <td>Xiaotian Zhu</td>\n",
       "      <td>Associate Professor</td>\n",
       "      <td>PhD in Finance</td>\n",
       "      <td>Fields:Quant modeling and algorithmic trading ...</td>\n",
       "    </tr>\n",
       "  </tbody>\n",
       "</table>\n",
       "</div>"
      ],
      "text/plain": [
       "                      name                                              title  \\\n",
       "0      Christopher Balding                                Associate Professor   \n",
       "1              Erik Benrud                                          Professor   \n",
       "2      Hursit Selcuk Celil                                Assistant Professor   \n",
       "3                  Wei Cen                                Assistant Professor   \n",
       "4         Kevin Chastagner                                Assistant Professor   \n",
       "5                Qian Chen                                Assistant Professor   \n",
       "6             Jaehyuk Choi                                Assistant Professor   \n",
       "7        Chia-Shang J. Chu                                          Professor   \n",
       "8               Tianyu Dai                                Associate Professor   \n",
       "9                 Gang Fan                                          Professor   \n",
       "10                Yan Feng                                Assistant Professor   \n",
       "11       Terrill L. Frantz                  Assistant Professor of Management   \n",
       "12           Chang Yong Ha                                Assistant Professor   \n",
       "13                 Wen Hai         Vice Chairman of Peking University Council   \n",
       "14                  Fan He                                          Professor   \n",
       "15           Haifeng Huang                                     Assistant Dean   \n",
       "16           Hyun Joong Im                                Assistant Professor   \n",
       "17                  Lan Ju                                Associate Professor   \n",
       "18     Daniel Sungyeon Kim                                Assistant Professor   \n",
       "19  Frank (Fritz) H. Koger                                Assistant Professor   \n",
       "20             Fanmin Kong                                Associate Professor   \n",
       "21                 Sai Lan                                Assistant Professor   \n",
       "22             Yingjie Lan                                Assistant Professor   \n",
       "23             Daeyong Lee                                Assistant Professor   \n",
       "24              Insook Lee                                Assistant Professor   \n",
       "25                 Nan Liu                                Assistant Professor   \n",
       "26                 Lan Liu                       Teaching Associate Professor   \n",
       "27                Yang Liu                                Assistant Professor   \n",
       "28                 Guy Liu                                          Professor   \n",
       "29                  Jun Lu                                Assistant Professor   \n",
       "30            Seungjoon Oh                                Assistant Professor   \n",
       "31               David Ong                                Assistant Professor   \n",
       "32          Liangyi Ouyang                                Associate Professor   \n",
       "33         Young Joon Park                                Assistant Professor   \n",
       "34           Jooyoung Park                                Assistant Professor   \n",
       "35                Ting Ren  Associate Professor, Associate Dean, Director ...   \n",
       "36                Jiao Shi                                Assistant Professor   \n",
       "37            Sungbin Sohn                                Assistant Professor   \n",
       "38                 Lei Sun                                Assistant Professor   \n",
       "39         Domenico Tarzia                                Assistant Professor   \n",
       "40            Naqiong Tong                                Assistant Professor   \n",
       "41              Zhiyong Tu                                Associate Professor   \n",
       "42           Chunyang Wang                                Associate Professor   \n",
       "43               Qing Wang                                Assistant Professor   \n",
       "44                 Wei Wei               Associate Professor & Associate Dean   \n",
       "45                  Wei Xu                                Assistant Professor   \n",
       "46                 Yang Xu                                Assistant Professor   \n",
       "47               Juan Yang                                Assistant Professor   \n",
       "48              Weiming Ye                                Assistant Professor   \n",
       "49            C. James Yen                                Assistant Professor   \n",
       "50             Yeujun Yoon                                Assistant Professor   \n",
       "51             Yilin Zhang                                Assistant Professor   \n",
       "52               Jake Zhao                                Assistant Professor   \n",
       "53             Deming Zhou                                Assistant Professor   \n",
       "54                 Yu Zhou                                Assistant Professor   \n",
       "55                Hong Zhu                                Assistant Professor   \n",
       "56            Xiaotian Zhu                                Associate Professor   \n",
       "\n",
       "                                                creds  \\\n",
       "0   PhD, Political Economics, University of Califo...   \n",
       "1              PhD in finance, University of Virginia   \n",
       "2            Ph. D. in Finance, Texas A&M; University   \n",
       "3   PhD, Applied Economics and Management, CORNELL...   \n",
       "4   PhD, Business Administration, Washington State...   \n",
       "5   PhD, Operations Management and Econometrics,th...   \n",
       "6   Ph.D. in Applied Mathematics, Massachusetts In...   \n",
       "7   Ph.D.in Economics, University of California, S...   \n",
       "8   Ph.D., Management, Chinese Academy of Social S...   \n",
       "9   PhD, Graduate School of Chinese Academy of Soc...   \n",
       "10  PhD, Applied Economics, University of Pennsylv...   \n",
       "11  PhD, Computer Science, Carnegie Mellon Univ. &...   \n",
       "12      Ph.D.  Finance/Economics, Columbia University   \n",
       "13             PhD, University of California at Davis   \n",
       "14                                   PhD in Economics   \n",
       "15                 PhD, Humboldt University in Berlin   \n",
       "16   DPhil, Financial Economics, University of Oxford   \n",
       "17  PhD, Risk Management and Insurance, University...   \n",
       "18                   PhD, Finance, Indiana University   \n",
       "19                    PhD, Finance, Tulane University   \n",
       "20  Ph.D., Human Resources and Industrial Relation...   \n",
       "21  PhD, Strategy & Entrepreneurship, University o...   \n",
       "22  Ph.D in Operations Management, University of M...   \n",
       "23       Ph.D. in Economics, University of Washington   \n",
       "24  PhD in Economics, University of California, Be...   \n",
       "25        Ph.D., Accounting, Georgia State University   \n",
       "26                               PhD in Communication   \n",
       "27         Ph. D. The Chinese University of Hong Kong   \n",
       "28                                   PhD in Economics   \n",
       "29  PhD,Risk Management & Insurance, Finance,Unive...   \n",
       "30             Ph.D., Finance, University of Michigan   \n",
       "31  PhD, Economics, University of California at Davis   \n",
       "32        PhD in Finance, The University of Hong Kong   \n",
       "33  PhD, Economics, University of California at Sa...   \n",
       "34                      Marketing, University of Iowa   \n",
       "35  PhD, Human Resources and Industrial Relations,...   \n",
       "36       Ph.D. in Economics, University of Wisconsin    \n",
       "37  PhD, Economics, University of California, Berk...   \n",
       "38                 PhD, Finance, Lancaster University   \n",
       "39   Ph.D., Finance, Bocconi University, Milan, Italy   \n",
       "40    PhD, Rutgers-The State University of New Jersey   \n",
       "41           PhD, Economics, University of Pittsburgh   \n",
       "42           PhD, Economics, University of Minnesota    \n",
       "43  Ph.D., Economics, University of Illinois at Ur...   \n",
       "44  PhD, Management Science, Huazhong University o...   \n",
       "45  PhD, Finance, Quantitative Methods, Purdue Uni...   \n",
       "46         PhD,  Economics, The University of Chicago   \n",
       "47  PhD, Agricultural Economics, Texas A&M; Univer...   \n",
       "48                           Ph. D. Peking University   \n",
       "49  Ph.D., Organization and Strategy, Washington U...   \n",
       "50  PhD, Marketing, Washington University in St. L...   \n",
       "51  Ph.D., Finance, University of Illinois Urbana-...   \n",
       "52  PhD,  Economics,  University of Wisconsin-Madison   \n",
       "53  Ph.D in Decisions, Operations, and Technology ...   \n",
       "54              PhD, Economics, Ohio State University   \n",
       "55  Ph.D., Strategic Management, Texas A&M; Univer...   \n",
       "56                                    PhD in Finance    \n",
       "\n",
       "                                               fields  \n",
       "0                          Fields:Political Economics  \n",
       "1                     Fields:Finance and Econometrics  \n",
       "2   Fields:Finance - Corporate Finance; Asset Valu...  \n",
       "3      Fields:Corporate Finance, Corporate Governance  \n",
       "4   Fields:Corporate Strategy and International Bu...  \n",
       "5   Fields:Bayesian inference, extreme event forec...  \n",
       "6   Fields:Quantitative ﬁnance, Mathematical model...  \n",
       "7     Fields:Econometric theory, Time Series Analysis  \n",
       "8   Fields:Oriental Economics, Cartography Analysi...  \n",
       "9   Fields:Macroeconomics and Chinese macroeconomi...  \n",
       "10  Fields:Healthcare financing and policy; public...  \n",
       "11  Fields:Organizational Behavior, Mergers & Acqu...  \n",
       "12       Fields:Asset Pricing, Market Micro-structure  \n",
       "13                                      Read More ...  \n",
       "14  Fields:Chinese macro-economy, international fi...  \n",
       "15  Fields:Economic Transition; Strategic manageme...  \n",
       "16  Fields:Corporate Finance, Stock Markets, Macro...  \n",
       "17  Fields:Corporate Risk Management, Insurance Co...  \n",
       "18  Fields:Empirical and theoretical corporate fin...  \n",
       "19  Fields:Corporate Finance and Governance, Heter...  \n",
       "20  Fields:Human Resources and Industrial Relation...  \n",
       "21  Fields:Innovation and Entrepreneurship, Intern...  \n",
       "22  Fields:Revenue Management, Operations Manageme...  \n",
       "23  Fields:Public Finance, Health Economics, Appli...  \n",
       "24  Fields:Public Economics (Public Finance), Publ...  \n",
       "25  Fields:Financial accounting, Earnings manageme...  \n",
       "26  Fields:Leadership, Corporate Culture, Organiza...  \n",
       "27  Fields:Sociology of Technology, Developmental ...  \n",
       "28   Fields:China’s enterprise reform and development  \n",
       "29  Fields:Investment Behavior, Financial Markets,...  \n",
       "30      Fields:Corporate Finance, Real Estate Finance  \n",
       "31  Fields:Experimental Economics, Behavioral Game...  \n",
       "32  Fields:Financial Derivatives, Private Equity, ...  \n",
       "33  Fields:Behavioral Economics, Experimental Econ...  \n",
       "34  Fields:Marketing, Consumer Information Process...  \n",
       "35  Fields:Organizational Design, Ownership and Co...  \n",
       "36  Fields:International Macroeconomics, Foreign D...  \n",
       "37     Fields:Empirical and Theoretical Asset pricing  \n",
       "38  Fields:Financial Economics, Behavior Finance, ...  \n",
       "39  Fields:Option pricing, Financial modelling, St...  \n",
       "40  Fields:CEO Compensation, Corporate Governance,...  \n",
       "41  Fields:Financial Economics, Commodity Markets,...  \n",
       "42  Fields:Macroeconomics and Monetary Economics, ...  \n",
       "43  Fields: Labor and Demographic Economics, Devel...  \n",
       "44  Fields:Strategic Management, Business Model De...  \n",
       "45                                  Fields:Investment  \n",
       "46  Fields:Behavioral Economics, Experimental Econ...  \n",
       "47  Fields:Macro and Monetary Economics; New Energ...  \n",
       "48  Fields:ICTs (Information & Communication Techn...  \n",
       "49  Fields:Strategic Management; Organizational Ec...  \n",
       "50  Fields:Advertising Competition, Channel Manage...  \n",
       "51  Fields:Asset pricing, dynamic macroeconomics, ...  \n",
       "52            Fields:Macro-Finance, Corporate Finance  \n",
       "53                                      Read More ...  \n",
       "54  Fields:Real Estate and Housing Economics, Urba...  \n",
       "55  Fields:Strategic management, Mergers and Acqui...  \n",
       "56  Fields:Quant modeling and algorithmic trading ...  "
      ]
     },
     "execution_count": 93,
     "metadata": {},
     "output_type": "execute_result"
    }
   ],
   "source": [
    "df"
   ]
  },
  {
   "cell_type": "code",
   "execution_count": 89,
   "metadata": {
    "collapsed": true
   },
   "outputs": [],
   "source": [
    "df.to_csv(\"professors.csv\")"
   ]
  },
  {
   "cell_type": "code",
   "execution_count": 90,
   "metadata": {},
   "outputs": [],
   "source": [
    "%matplotlib inline"
   ]
  },
  {
   "cell_type": "code",
   "execution_count": 94,
   "metadata": {},
   "outputs": [
    {
     "data": {
      "text/plain": [
       "<matplotlib.axes._subplots.AxesSubplot at 0x11f06ca58>"
      ]
     },
     "execution_count": 94,
     "metadata": {},
     "output_type": "execute_result"
    },
    {
     "data": {
      "image/png": "[encoded data removed]",
      "text/plain": [
       "<matplotlib.figure.Figure at 0x11ef27e10>"
      ]
     },
     "metadata": {},
     "output_type": "display_data"
    }
   ],
   "source": [
    "df[\"title\"].value_counts().plot(kind=\"pie\")"
   ]
  },
  {
   "cell_type": "markdown",
   "metadata": {},
   "source": [
    "## Pandas\n",
    "\n"
   ]
  },
  {
   "cell_type": "code",
   "execution_count": 97,
   "metadata": {
    "collapsed": true
   },
   "outputs": [],
   "source": [
    "%matplotlib inline\n",
    "import pandas as pd\n",
    "import numpy as np\n",
    "import matplotlib.pyplot as plt\n",
    "pd.set_option('max_rows', 25)\n",
    "plt.style.use('ggplot')\n",
    "plt.rcParams[\"figure.figsize\"] = (10, 4)"
   ]
  },
  {
   "cell_type": "code",
   "execution_count": 98,
   "metadata": {
    "collapsed": true
   },
   "outputs": [],
   "source": [
    "s = pd.Series([5, 5, 5, 10, 10, 12, 15, 15, 23, 27, 30])"
   ]
  },
  {
   "cell_type": "code",
   "execution_count": 100,
   "metadata": {},
   "outputs": [
    {
     "data": {
      "text/plain": [
       "0      5\n",
       "1      5\n",
       "2      5\n",
       "3     10\n",
       "4     10\n",
       "5     12\n",
       "6     15\n",
       "7     15\n",
       "8     23\n",
       "9     27\n",
       "10    30\n",
       "dtype: int64"
      ]
     },
     "execution_count": 100,
     "metadata": {},
     "output_type": "execute_result"
    }
   ],
   "source": [
    "s"
   ]
  },
  {
   "cell_type": "code",
   "execution_count": 102,
   "metadata": {},
   "outputs": [
    {
     "data": {
      "text/plain": [
       "pandas.core.series.Series"
      ]
     },
     "execution_count": 102,
     "metadata": {},
     "output_type": "execute_result"
    }
   ],
   "source": [
    "type(s)"
   ]
  },
  {
   "cell_type": "code",
   "execution_count": 104,
   "metadata": {},
   "outputs": [
    {
     "data": {
      "text/plain": [
       "<matplotlib.axes._subplots.AxesSubplot at 0x11f278320>"
      ]
     },
     "execution_count": 104,
     "metadata": {},
     "output_type": "execute_result"
    },
    {
     "data": {
      "image/png": "[encoded data removed]",
      "text/plain": [
       "<matplotlib.figure.Figure at 0x11f378940>"
      ]
     },
     "metadata": {},
     "output_type": "display_data"
    }
   ],
   "source": [
    "s.plot()"
   ]
  },
  {
   "cell_type": "code",
   "execution_count": 107,
   "metadata": {},
   "outputs": [
    {
     "data": {
      "text/plain": [
       "0      2.5\n",
       "1      2.5\n",
       "2      2.5\n",
       "3      5.0\n",
       "4      5.0\n",
       "5      6.0\n",
       "6      7.5\n",
       "7      7.5\n",
       "8     11.5\n",
       "9     13.5\n",
       "10    15.0\n",
       "dtype: float64"
      ]
     },
     "execution_count": 107,
     "metadata": {},
     "output_type": "execute_result"
    }
   ],
   "source": [
    "s * 0.5"
   ]
  },
  {
   "cell_type": "code",
   "execution_count": 109,
   "metadata": {},
   "outputs": [
    {
     "data": {
      "text/plain": [
       "0     105\n",
       "1     105\n",
       "2     105\n",
       "3     110\n",
       "4     110\n",
       "5     112\n",
       "6     115\n",
       "7     115\n",
       "8     123\n",
       "9     127\n",
       "10    130\n",
       "dtype: int64"
      ]
     },
     "execution_count": 109,
     "metadata": {},
     "output_type": "execute_result"
    }
   ],
   "source": [
    "s + 100"
   ]
  },
  {
   "cell_type": "code",
   "execution_count": 112,
   "metadata": {},
   "outputs": [
    {
     "data": {
      "text/plain": [
       "count    11.000000\n",
       "mean     14.272727\n",
       "std       8.866689\n",
       "min       5.000000\n",
       "25%       7.500000\n",
       "50%      12.000000\n",
       "75%      19.000000\n",
       "max      30.000000\n",
       "dtype: float64"
      ]
     },
     "execution_count": 112,
     "metadata": {},
     "output_type": "execute_result"
    }
   ],
   "source": [
    "s.describe()"
   ]
  },
  {
   "cell_type": "code",
   "execution_count": 114,
   "metadata": {},
   "outputs": [
    {
     "data": {
      "text/plain": [
       "14.272727272727273"
      ]
     },
     "execution_count": 114,
     "metadata": {},
     "output_type": "execute_result"
    }
   ],
   "source": [
    "s.mean()"
   ]
  },
  {
   "cell_type": "code",
   "execution_count": 116,
   "metadata": {},
   "outputs": [
    {
     "data": {
      "text/plain": [
       "30"
      ]
     },
     "execution_count": 116,
     "metadata": {},
     "output_type": "execute_result"
    }
   ],
   "source": [
    "s.max()"
   ]
  },
  {
   "cell_type": "code",
   "execution_count": 118,
   "metadata": {},
   "outputs": [
    {
     "data": {
      "text/plain": [
       "5"
      ]
     },
     "execution_count": 118,
     "metadata": {},
     "output_type": "execute_result"
    }
   ],
   "source": [
    "s.min()"
   ]
  },
  {
   "cell_type": "code",
   "execution_count": 120,
   "metadata": {},
   "outputs": [
    {
     "data": {
      "text/plain": [
       "12.0"
      ]
     },
     "execution_count": 120,
     "metadata": {},
     "output_type": "execute_result"
    }
   ],
   "source": [
    "s.median()"
   ]
  },
  {
   "cell_type": "code",
   "execution_count": 122,
   "metadata": {},
   "outputs": [
    {
     "data": {
      "text/plain": [
       "0    5\n",
       "dtype: int64"
      ]
     },
     "execution_count": 122,
     "metadata": {},
     "output_type": "execute_result"
    }
   ],
   "source": [
    "s.mode()"
   ]
  },
  {
   "cell_type": "code",
   "execution_count": 124,
   "metadata": {},
   "outputs": [
    {
     "data": {
      "text/plain": [
       "<matplotlib.axes._subplots.AxesSubplot at 0x11f72f9e8>"
      ]
     },
     "execution_count": 124,
     "metadata": {},
     "output_type": "execute_result"
    },
    {
     "data": {
      "image/png": "[encoded data removed]",
      "text/plain": [
       "<matplotlib.figure.Figure at 0x11f750cf8>"
      ]
     },
     "metadata": {},
     "output_type": "display_data"
    }
   ],
   "source": [
    "s.plot()"
   ]
  },
  {
   "cell_type": "code",
   "execution_count": 127,
   "metadata": {},
   "outputs": [
    {
     "data": {
      "text/plain": [
       "<matplotlib.axes._subplots.AxesSubplot at 0x11fb46278>"
      ]
     },
     "execution_count": 127,
     "metadata": {},
     "output_type": "execute_result"
    },
    {
     "data": {
      "image/png": "[encoded data removed]",
      "text/plain": [
       "<matplotlib.figure.Figure at 0x11fae92b0>"
      ]
     },
     "metadata": {},
     "output_type": "display_data"
    }
   ],
   "source": [
    "s.plot(kind=\"bar\")"
   ]
  },
  {
   "cell_type": "code",
   "execution_count": 129,
   "metadata": {},
   "outputs": [
    {
     "data": {
      "text/plain": [
       "<matplotlib.axes._subplots.AxesSubplot at 0x11fcd30f0>"
      ]
     },
     "execution_count": 129,
     "metadata": {},
     "output_type": "execute_result"
    },
    {
     "data": {
      "image/png": "[encoded data removed]",
      "text/plain": [
       "<matplotlib.figure.Figure at 0x11f243278>"
      ]
     },
     "metadata": {},
     "output_type": "display_data"
    }
   ],
   "source": [
    "s.plot(kind=\"barh\")"
   ]
  },
  {
   "cell_type": "code",
   "execution_count": 131,
   "metadata": {},
   "outputs": [
    {
     "data": {
      "text/plain": [
       "<matplotlib.axes._subplots.AxesSubplot at 0x11ffc68d0>"
      ]
     },
     "execution_count": 131,
     "metadata": {},
     "output_type": "execute_result"
    },
    {
     "data": {
      "image/png": "[encoded data removed]",
      "text/plain": [
       "<matplotlib.figure.Figure at 0x120068a90>"
      ]
     },
     "metadata": {},
     "output_type": "display_data"
    }
   ],
   "source": [
    "s.plot(kind=\"pie\")"
   ]
  },
  {
   "cell_type": "code",
   "execution_count": 133,
   "metadata": {
    "collapsed": true
   },
   "outputs": [],
   "source": [
    "planet_moons = pd.Series(\n",
    "    [0, 0, 1, 2, 69, 62, 27, 14],\n",
    "    [\"Mercury\", \"Venus\", \"Earth\", \"Mars\", \"Jupiter\", \"Saturn\", \"Uranus\", \"Neptune\"]\n",
    ")"
   ]
  },
  {
   "cell_type": "code",
   "execution_count": 135,
   "metadata": {},
   "outputs": [
    {
     "data": {
      "text/plain": [
       "Mercury     0\n",
       "Venus       0\n",
       "Earth       1\n",
       "Mars        2\n",
       "Jupiter    69\n",
       "Saturn     62\n",
       "Uranus     27\n",
       "Neptune    14\n",
       "dtype: int64"
      ]
     },
     "execution_count": 135,
     "metadata": {},
     "output_type": "execute_result"
    }
   ],
   "source": [
    "planet_moons"
   ]
  },
  {
   "cell_type": "code",
   "execution_count": 137,
   "metadata": {},
   "outputs": [
    {
     "data": {
      "text/plain": [
       "21.875"
      ]
     },
     "execution_count": 137,
     "metadata": {},
     "output_type": "execute_result"
    }
   ],
   "source": [
    "planet_moons.mean()"
   ]
  },
  {
   "cell_type": "code",
   "execution_count": 139,
   "metadata": {},
   "outputs": [
    {
     "data": {
      "text/plain": [
       "<matplotlib.axes._subplots.AxesSubplot at 0x1202dd390>"
      ]
     },
     "execution_count": 139,
     "metadata": {},
     "output_type": "execute_result"
    },
    {
     "data": {
      "image/png": "[encoded data removed]",
      "text/plain": [
       "<matplotlib.figure.Figure at 0x1202af898>"
      ]
     },
     "metadata": {},
     "output_type": "display_data"
    }
   ],
   "source": [
    "planet_moons.plot(kind=\"bar\")"
   ]
  },
  {
   "cell_type": "markdown",
   "metadata": {},
   "source": [
    "### Series Indexing\n",
    "\n",
    "How to get one particular value from a series?"
   ]
  },
  {
   "cell_type": "code",
   "execution_count": 140,
   "metadata": {},
   "outputs": [
    {
     "data": {
      "text/plain": [
       "0      5\n",
       "1      5\n",
       "2      5\n",
       "3     10\n",
       "4     10\n",
       "5     12\n",
       "6     15\n",
       "7     15\n",
       "8     23\n",
       "9     27\n",
       "10    30\n",
       "dtype: int64"
      ]
     },
     "execution_count": 140,
     "metadata": {},
     "output_type": "execute_result"
    }
   ],
   "source": [
    "s"
   ]
  },
  {
   "cell_type": "code",
   "execution_count": 142,
   "metadata": {},
   "outputs": [
    {
     "data": {
      "text/plain": [
       "Mercury     0\n",
       "Venus       0\n",
       "Earth       1\n",
       "Mars        2\n",
       "Jupiter    69\n",
       "Saturn     62\n",
       "Uranus     27\n",
       "Neptune    14\n",
       "dtype: int64"
      ]
     },
     "execution_count": 142,
     "metadata": {},
     "output_type": "execute_result"
    }
   ],
   "source": [
    "planet_moons"
   ]
  },
  {
   "cell_type": "code",
   "execution_count": 146,
   "metadata": {},
   "outputs": [
    {
     "data": {
      "text/plain": [
       "1     5\n",
       "2     5\n",
       "3    10\n",
       "dtype: int64"
      ]
     },
     "execution_count": 146,
     "metadata": {},
     "output_type": "execute_result"
    }
   ],
   "source": [
    "s[1:4]"
   ]
  },
  {
   "cell_type": "code",
   "execution_count": 148,
   "metadata": {},
   "outputs": [
    {
     "ename": "KeyError",
     "evalue": "-1",
     "output_type": "error",
     "traceback": [
      "\u001b[0;31m---------------------------------------------------------------------------\u001b[0m",
      "\u001b[0;31mKeyError\u001b[0m                                  Traceback (most recent call last)",
      "\u001b[0;32m<ipython-input-148-e789fd34c9c2>\u001b[0m in \u001b[0;36m<module>\u001b[0;34m()\u001b[0m\n\u001b[0;32m----> 1\u001b[0;31m \u001b[0ms\u001b[0m\u001b[0;34m[\u001b[0m\u001b[0;34m-\u001b[0m\u001b[0;36m1\u001b[0m\u001b[0;34m]\u001b[0m \u001b[0;31m# doesn't work!\u001b[0m\u001b[0;34m\u001b[0m\u001b[0m\n\u001b[0m",
      "\u001b[0;32m/Users/allison/anaconda/lib/python3.6/site-packages/pandas/core/series.py\u001b[0m in \u001b[0;36m__getitem__\u001b[0;34m(self, key)\u001b[0m\n\u001b[1;32m    599\u001b[0m         \u001b[0mkey\u001b[0m \u001b[0;34m=\u001b[0m \u001b[0mcom\u001b[0m\u001b[0;34m.\u001b[0m\u001b[0m_apply_if_callable\u001b[0m\u001b[0;34m(\u001b[0m\u001b[0mkey\u001b[0m\u001b[0;34m,\u001b[0m \u001b[0mself\u001b[0m\u001b[0;34m)\u001b[0m\u001b[0;34m\u001b[0m\u001b[0m\n\u001b[1;32m    600\u001b[0m         \u001b[0;32mtry\u001b[0m\u001b[0;34m:\u001b[0m\u001b[0;34m\u001b[0m\u001b[0m\n\u001b[0;32m--> 601\u001b[0;31m             \u001b[0mresult\u001b[0m \u001b[0;34m=\u001b[0m \u001b[0mself\u001b[0m\u001b[0;34m.\u001b[0m\u001b[0mindex\u001b[0m\u001b[0;34m.\u001b[0m\u001b[0mget_value\u001b[0m\u001b[0;34m(\u001b[0m\u001b[0mself\u001b[0m\u001b[0;34m,\u001b[0m \u001b[0mkey\u001b[0m\u001b[0;34m)\u001b[0m\u001b[0;34m\u001b[0m\u001b[0m\n\u001b[0m\u001b[1;32m    602\u001b[0m \u001b[0;34m\u001b[0m\u001b[0m\n\u001b[1;32m    603\u001b[0m             \u001b[0;32mif\u001b[0m \u001b[0;32mnot\u001b[0m \u001b[0mis_scalar\u001b[0m\u001b[0;34m(\u001b[0m\u001b[0mresult\u001b[0m\u001b[0;34m)\u001b[0m\u001b[0;34m:\u001b[0m\u001b[0;34m\u001b[0m\u001b[0m\n",
      "\u001b[0;32m/Users/allison/anaconda/lib/python3.6/site-packages/pandas/core/indexes/base.py\u001b[0m in \u001b[0;36mget_value\u001b[0;34m(self, series, key)\u001b[0m\n\u001b[1;32m   2426\u001b[0m         \u001b[0;32mtry\u001b[0m\u001b[0;34m:\u001b[0m\u001b[0;34m\u001b[0m\u001b[0m\n\u001b[1;32m   2427\u001b[0m             return self._engine.get_value(s, k,\n\u001b[0;32m-> 2428\u001b[0;31m                                           tz=getattr(series.dtype, 'tz', None))\n\u001b[0m\u001b[1;32m   2429\u001b[0m         \u001b[0;32mexcept\u001b[0m \u001b[0mKeyError\u001b[0m \u001b[0;32mas\u001b[0m \u001b[0me1\u001b[0m\u001b[0;34m:\u001b[0m\u001b[0;34m\u001b[0m\u001b[0m\n\u001b[1;32m   2430\u001b[0m             \u001b[0;32mif\u001b[0m \u001b[0mlen\u001b[0m\u001b[0;34m(\u001b[0m\u001b[0mself\u001b[0m\u001b[0;34m)\u001b[0m \u001b[0;34m>\u001b[0m \u001b[0;36m0\u001b[0m \u001b[0;32mand\u001b[0m \u001b[0mself\u001b[0m\u001b[0;34m.\u001b[0m\u001b[0minferred_type\u001b[0m \u001b[0;32min\u001b[0m \u001b[0;34m[\u001b[0m\u001b[0;34m'integer'\u001b[0m\u001b[0;34m,\u001b[0m \u001b[0;34m'boolean'\u001b[0m\u001b[0;34m]\u001b[0m\u001b[0;34m:\u001b[0m\u001b[0;34m\u001b[0m\u001b[0m\n",
      "\u001b[0;32mpandas/_libs/index.pyx\u001b[0m in \u001b[0;36mpandas._libs.index.IndexEngine.get_value (pandas/_libs/index.c:4363)\u001b[0;34m()\u001b[0m\n",
      "\u001b[0;32mpandas/_libs/index.pyx\u001b[0m in \u001b[0;36mpandas._libs.index.IndexEngine.get_value (pandas/_libs/index.c:4046)\u001b[0;34m()\u001b[0m\n",
      "\u001b[0;32mpandas/_libs/index.pyx\u001b[0m in \u001b[0;36mpandas._libs.index.IndexEngine.get_loc (pandas/_libs/index.c:5085)\u001b[0;34m()\u001b[0m\n",
      "\u001b[0;32mpandas/_libs/hashtable_class_helper.pxi\u001b[0m in \u001b[0;36mpandas._libs.hashtable.Int64HashTable.get_item (pandas/_libs/hashtable.c:13913)\u001b[0;34m()\u001b[0m\n",
      "\u001b[0;32mpandas/_libs/hashtable_class_helper.pxi\u001b[0m in \u001b[0;36mpandas._libs.hashtable.Int64HashTable.get_item (pandas/_libs/hashtable.c:13857)\u001b[0;34m()\u001b[0m\n",
      "\u001b[0;31mKeyError\u001b[0m: -1"
     ]
    }
   ],
   "source": [
    "s[-1] # doesn't work!"
   ]
  },
  {
   "cell_type": "code",
   "execution_count": 150,
   "metadata": {},
   "outputs": [
    {
     "data": {
      "text/plain": [
       "Mercury     0\n",
       "Venus       0\n",
       "Earth       1\n",
       "Mars        2\n",
       "Jupiter    69\n",
       "Saturn     62\n",
       "Uranus     27\n",
       "Neptune    14\n",
       "dtype: int64"
      ]
     },
     "execution_count": 150,
     "metadata": {},
     "output_type": "execute_result"
    }
   ],
   "source": [
    "planet_moons"
   ]
  },
  {
   "cell_type": "code",
   "execution_count": 152,
   "metadata": {},
   "outputs": [
    {
     "data": {
      "text/plain": [
       "69"
      ]
     },
     "execution_count": 152,
     "metadata": {},
     "output_type": "execute_result"
    }
   ],
   "source": [
    "planet_moons[4]"
   ]
  },
  {
   "cell_type": "code",
   "execution_count": 154,
   "metadata": {},
   "outputs": [
    {
     "data": {
      "text/plain": [
       "69"
      ]
     },
     "execution_count": 154,
     "metadata": {},
     "output_type": "execute_result"
    }
   ],
   "source": [
    "planet_moons[\"Jupiter\"]"
   ]
  },
  {
   "cell_type": "code",
   "execution_count": 156,
   "metadata": {},
   "outputs": [
    {
     "data": {
      "text/plain": [
       "Mercury     0\n",
       "Venus       0\n",
       "Earth       1\n",
       "Mars        2\n",
       "Jupiter    69\n",
       "dtype: int64"
      ]
     },
     "execution_count": 156,
     "metadata": {},
     "output_type": "execute_result"
    }
   ],
   "source": [
    "planet_moons[\"Mercury\":\"Jupiter\"]"
   ]
  },
  {
   "cell_type": "code",
   "execution_count": 157,
   "metadata": {
    "collapsed": true
   },
   "outputs": [],
   "source": [
    "regular_python_list = [5, 10, 15, 20, 25]"
   ]
  },
  {
   "cell_type": "code",
   "execution_count": 161,
   "metadata": {
    "scrolled": true
   },
   "outputs": [
    {
     "data": {
      "text/plain": [
       "[15, 20]"
      ]
     },
     "execution_count": 161,
     "metadata": {},
     "output_type": "execute_result"
    }
   ],
   "source": [
    "regular_python_list[2:4]"
   ]
  },
  {
   "cell_type": "code",
   "execution_count": 162,
   "metadata": {},
   "outputs": [
    {
     "data": {
      "text/plain": [
       "0      5\n",
       "1      5\n",
       "2      5\n",
       "3     10\n",
       "4     10\n",
       "5     12\n",
       "6     15\n",
       "7     15\n",
       "8     23\n",
       "9     27\n",
       "10    30\n",
       "dtype: int64"
      ]
     },
     "execution_count": 162,
     "metadata": {},
     "output_type": "execute_result"
    }
   ],
   "source": [
    "s"
   ]
  },
  {
   "cell_type": "code",
   "execution_count": 164,
   "metadata": {},
   "outputs": [
    {
     "data": {
      "text/plain": [
       "5     3\n",
       "15    2\n",
       "10    2\n",
       "30    1\n",
       "12    1\n",
       "27    1\n",
       "23    1\n",
       "dtype: int64"
      ]
     },
     "execution_count": 164,
     "metadata": {},
     "output_type": "execute_result"
    }
   ],
   "source": [
    "s.value_counts()"
   ]
  },
  {
   "cell_type": "code",
   "execution_count": 166,
   "metadata": {
    "collapsed": true
   },
   "outputs": [],
   "source": [
    "s_counts = s.value_counts()"
   ]
  },
  {
   "cell_type": "code",
   "execution_count": 168,
   "metadata": {},
   "outputs": [
    {
     "data": {
      "text/plain": [
       "pandas.core.series.Series"
      ]
     },
     "execution_count": 168,
     "metadata": {},
     "output_type": "execute_result"
    }
   ],
   "source": [
    "type(s_counts)"
   ]
  },
  {
   "cell_type": "code",
   "execution_count": 170,
   "metadata": {},
   "outputs": [
    {
     "data": {
      "text/plain": [
       "<matplotlib.axes._subplots.AxesSubplot at 0x1205a6b00>"
      ]
     },
     "execution_count": 170,
     "metadata": {},
     "output_type": "execute_result"
    },
    {
     "data": {
      "image/png": "[encoded data removed]",
      "text/plain": [
       "<matplotlib.figure.Figure at 0x1205ba630>"
      ]
     },
     "metadata": {},
     "output_type": "display_data"
    }
   ],
   "source": [
    "s_counts.plot(kind=\"pie\")"
   ]
  },
  {
   "cell_type": "code",
   "execution_count": 172,
   "metadata": {},
   "outputs": [
    {
     "data": {
      "text/plain": [
       "5     3\n",
       "15    2\n",
       "10    2\n",
       "30    1\n",
       "12    1\n",
       "27    1\n",
       "23    1\n",
       "dtype: int64"
      ]
     },
     "execution_count": 172,
     "metadata": {},
     "output_type": "execute_result"
    }
   ],
   "source": [
    "s_counts"
   ]
  },
  {
   "cell_type": "code",
   "execution_count": 175,
   "metadata": {},
   "outputs": [
    {
     "data": {
      "text/plain": [
       "3"
      ]
     },
     "execution_count": 175,
     "metadata": {},
     "output_type": "execute_result"
    }
   ],
   "source": [
    "s_counts[5]"
   ]
  },
  {
   "cell_type": "code",
   "execution_count": 177,
   "metadata": {},
   "outputs": [
    {
     "data": {
      "text/plain": [
       "1"
      ]
     },
     "execution_count": 177,
     "metadata": {},
     "output_type": "execute_result"
    }
   ],
   "source": [
    "s_counts.iloc[5]"
   ]
  },
  {
   "cell_type": "markdown",
   "metadata": {},
   "source": [
    "### Selecting from series"
   ]
  },
  {
   "cell_type": "code",
   "execution_count": 180,
   "metadata": {
    "scrolled": true
   },
   "outputs": [
    {
     "data": {
      "text/plain": [
       "Mercury     0\n",
       "Venus       0\n",
       "Earth       1\n",
       "Mars        2\n",
       "Jupiter    69\n",
       "Saturn     62\n",
       "Uranus     27\n",
       "Neptune    14\n",
       "dtype: int64"
      ]
     },
     "execution_count": 180,
     "metadata": {},
     "output_type": "execute_result"
    }
   ],
   "source": [
    "planet_moons"
   ]
  },
  {
   "cell_type": "code",
   "execution_count": 182,
   "metadata": {},
   "outputs": [
    {
     "data": {
      "text/plain": [
       "Jupiter    69\n",
       "Saturn     62\n",
       "Neptune    14\n",
       "dtype: int64"
      ]
     },
     "execution_count": 182,
     "metadata": {},
     "output_type": "execute_result"
    }
   ],
   "source": [
    "planet_moons[ [\"Jupiter\", \"Saturn\", \"Neptune\"] ]"
   ]
  },
  {
   "cell_type": "code",
   "execution_count": 184,
   "metadata": {},
   "outputs": [
    {
     "data": {
      "text/plain": [
       "Mercury     0\n",
       "Jupiter    69\n",
       "Neptune    14\n",
       "dtype: int64"
      ]
     },
     "execution_count": 184,
     "metadata": {},
     "output_type": "execute_result"
    }
   ],
   "source": [
    "planet_moons[ [True, False, False, False, True, False, False, True] ]"
   ]
  },
  {
   "cell_type": "code",
   "execution_count": 187,
   "metadata": {},
   "outputs": [
    {
     "data": {
      "text/plain": [
       "Mercury     True\n",
       "Venus       True\n",
       "Earth       True\n",
       "Mars       False\n",
       "Jupiter    False\n",
       "Saturn     False\n",
       "Uranus     False\n",
       "Neptune    False\n",
       "dtype: bool"
      ]
     },
     "execution_count": 187,
     "metadata": {},
     "output_type": "execute_result"
    }
   ],
   "source": [
    "planet_moons < 2"
   ]
  },
  {
   "cell_type": "code",
   "execution_count": 189,
   "metadata": {
    "scrolled": true
   },
   "outputs": [
    {
     "data": {
      "text/plain": [
       "Mercury    0\n",
       "Venus      0\n",
       "Earth      1\n",
       "dtype: int64"
      ]
     },
     "execution_count": 189,
     "metadata": {},
     "output_type": "execute_result"
    }
   ],
   "source": [
    "planet_moons[ planet_moons < 2 ]"
   ]
  },
  {
   "cell_type": "markdown",
   "metadata": {},
   "source": [
    "this..."
   ]
  },
  {
   "cell_type": "code",
   "execution_count": 193,
   "metadata": {
    "scrolled": false
   },
   "outputs": [
    {
     "data": {
      "text/plain": [
       "Earth    1\n",
       "dtype: int64"
      ]
     },
     "execution_count": 193,
     "metadata": {},
     "output_type": "execute_result"
    }
   ],
   "source": [
    "planet_moons[planet_moons==1]"
   ]
  },
  {
   "cell_type": "markdown",
   "metadata": {},
   "source": [
    "would be faster than this:"
   ]
  },
  {
   "cell_type": "code",
   "execution_count": 197,
   "metadata": {
    "scrolled": true
   },
   "outputs": [
    {
     "data": {
      "text/plain": [
       "0    1\n",
       "dtype: int64"
      ]
     },
     "execution_count": 197,
     "metadata": {},
     "output_type": "execute_result"
    }
   ],
   "source": [
    "pd.Series([item for item in planet_moons if item == 1])"
   ]
  },
  {
   "cell_type": "code",
   "execution_count": 200,
   "metadata": {},
   "outputs": [
    {
     "data": {
      "text/plain": [
       "0      5\n",
       "1      5\n",
       "2      5\n",
       "3     10\n",
       "4     10\n",
       "5     12\n",
       "6     15\n",
       "7     15\n",
       "8     23\n",
       "9     27\n",
       "10    30\n",
       "dtype: int64"
      ]
     },
     "execution_count": 200,
     "metadata": {},
     "output_type": "execute_result"
    }
   ],
   "source": [
    "s"
   ]
  },
  {
   "cell_type": "code",
   "execution_count": 202,
   "metadata": {},
   "outputs": [
    {
     "data": {
      "text/plain": [
       "pandas.core.series.Series"
      ]
     },
     "execution_count": 202,
     "metadata": {},
     "output_type": "execute_result"
    }
   ],
   "source": [
    "type(s > 15)"
   ]
  },
  {
   "cell_type": "code",
   "execution_count": 207,
   "metadata": {},
   "outputs": [
    {
     "data": {
      "text/plain": [
       "0     False\n",
       "1     False\n",
       "2     False\n",
       "3     False\n",
       "4     False\n",
       "5     False\n",
       "6     False\n",
       "7     False\n",
       "8      True\n",
       "9      True\n",
       "10     True\n",
       "dtype: bool"
      ]
     },
     "execution_count": 207,
     "metadata": {},
     "output_type": "execute_result"
    }
   ],
   "source": [
    "s > 15"
   ]
  },
  {
   "cell_type": "code",
   "execution_count": 208,
   "metadata": {},
   "outputs": [
    {
     "data": {
      "text/plain": [
       "8     23\n",
       "9     27\n",
       "10    30\n",
       "dtype: int64"
      ]
     },
     "execution_count": 208,
     "metadata": {},
     "output_type": "execute_result"
    }
   ],
   "source": [
    "s[s > 15]"
   ]
  },
  {
   "cell_type": "markdown",
   "metadata": {},
   "source": [
    "### DataFrame\n",
    "\n",
    "DataFrame is basically a Series of Series."
   ]
  },
  {
   "cell_type": "code",
   "execution_count": 220,
   "metadata": {},
   "outputs": [],
   "source": [
    "river_data = {\n",
    "    \"Name\": [\"Amazon\", \"Nile\", \"Yangtze\", \"Mississippi\"],\n",
    "    \"Length\": [6992, 6835, 6300, 6275],\n",
    "    \"Drainage area\": [7050000, 3254555, 1800000, 2980000],\n",
    "    \"Discharge\": [209000, 2800, 31900, 16200]\n",
    "}\n",
    "river_df = pd.DataFrame(river_data,\n",
    "    columns=[\"Name\", \"Length\", \"Drainage area\", \"Discharge\"])"
   ]
  },
  {
   "cell_type": "code",
   "execution_count": 221,
   "metadata": {},
   "outputs": [
    {
     "data": {
      "text/html": [
       "<div>\n",
       "<style>\n",
       "    .dataframe thead tr:only-child th {\n",
       "        text-align: right;\n",
       "    }\n",
       "\n",
       "    .dataframe thead th {\n",
       "        text-align: left;\n",
       "    }\n",
       "\n",
       "    .dataframe tbody tr th {\n",
       "        vertical-align: top;\n",
       "    }\n",
       "</style>\n",
       "<table border=\"1\" class=\"dataframe\">\n",
       "  <thead>\n",
       "    <tr style=\"text-align: right;\">\n",
       "      <th></th>\n",
       "      <th>Name</th>\n",
       "      <th>Length</th>\n",
       "      <th>Drainage area</th>\n",
       "      <th>Discharge</th>\n",
       "    </tr>\n",
       "  </thead>\n",
       "  <tbody>\n",
       "    <tr>\n",
       "      <th>0</th>\n",
       "      <td>Amazon</td>\n",
       "      <td>6992</td>\n",
       "      <td>7050000</td>\n",
       "      <td>209000</td>\n",
       "    </tr>\n",
       "    <tr>\n",
       "      <th>1</th>\n",
       "      <td>Nile</td>\n",
       "      <td>6835</td>\n",
       "      <td>3254555</td>\n",
       "      <td>2800</td>\n",
       "    </tr>\n",
       "    <tr>\n",
       "      <th>2</th>\n",
       "      <td>Yangtze</td>\n",
       "      <td>6300</td>\n",
       "      <td>1800000</td>\n",
       "      <td>31900</td>\n",
       "    </tr>\n",
       "    <tr>\n",
       "      <th>3</th>\n",
       "      <td>Mississippi</td>\n",
       "      <td>6275</td>\n",
       "      <td>2980000</td>\n",
       "      <td>16200</td>\n",
       "    </tr>\n",
       "  </tbody>\n",
       "</table>\n",
       "</div>"
      ],
      "text/plain": [
       "          Name  Length  Drainage area  Discharge\n",
       "0       Amazon    6992        7050000     209000\n",
       "1         Nile    6835        3254555       2800\n",
       "2      Yangtze    6300        1800000      31900\n",
       "3  Mississippi    6275        2980000      16200"
      ]
     },
     "execution_count": 221,
     "metadata": {},
     "output_type": "execute_result"
    }
   ],
   "source": [
    "river_df"
   ]
  },
  {
   "cell_type": "code",
   "execution_count": 223,
   "metadata": {
    "scrolled": true
   },
   "outputs": [
    {
     "data": {
      "text/plain": [
       "<matplotlib.axes._subplots.AxesSubplot at 0x120b00d30>"
      ]
     },
     "execution_count": 223,
     "metadata": {},
     "output_type": "execute_result"
    },
    {
     "data": {
      "image/png": "[encoded data removed]",
      "text/plain": [
       "<matplotlib.figure.Figure at 0x120adeba8>"
      ]
     },
     "metadata": {},
     "output_type": "display_data"
    }
   ],
   "source": [
    "river_df.plot()"
   ]
  },
  {
   "cell_type": "code",
   "execution_count": 226,
   "metadata": {},
   "outputs": [
    {
     "data": {
      "text/plain": [
       "<matplotlib.axes._subplots.AxesSubplot at 0x120f93a58>"
      ]
     },
     "execution_count": 226,
     "metadata": {},
     "output_type": "execute_result"
    },
    {
     "data": {
      "image/png": "[encoded data removed]",
      "text/plain": [
       "<matplotlib.figure.Figure at 0x120f68f60>"
      ]
     },
     "metadata": {},
     "output_type": "display_data"
    }
   ],
   "source": [
    "river_df.plot(kind=\"bar\", x=\"Name\", y=\"Discharge\")"
   ]
  },
  {
   "cell_type": "code",
   "execution_count": 231,
   "metadata": {},
   "outputs": [
    {
     "data": {
      "text/plain": [
       "2800"
      ]
     },
     "execution_count": 231,
     "metadata": {},
     "output_type": "execute_result"
    }
   ],
   "source": [
    "river_df[\"Discharge\"].min()"
   ]
  }
 ],
 "metadata": {
  "kernelspec": {
   "display_name": "Python 3",
   "language": "python",
   "name": "python3"
  },
  "language_info": {
   "codemirror_mode": {
    "name": "ipython",
    "version": 3
   },
   "file_extension": ".py",
   "mimetype": "text/x-python",
   "name": "python",
   "nbconvert_exporter": "python",
   "pygments_lexer": "ipython3",
   "version": "3.6.1"
  }
 },
 "nbformat": 4,
 "nbformat_minor": 2
}
